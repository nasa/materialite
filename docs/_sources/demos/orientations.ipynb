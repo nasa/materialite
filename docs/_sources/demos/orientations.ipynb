{
 "cells": [
  {
   "cell_type": "code",
   "execution_count": null,
   "id": "58e41059",
   "metadata": {
    "tags": [
     "remove-cell"
    ]
   },
   "outputs": [],
   "source": [
    "import pyvista as pv\n",
    "\n",
    "pv.set_jupyter_backend(\"static\")\n",
    "\n",
    "%load_ext autoreload\n",
    "%autoreload 2"
   ]
  },
  {
   "cell_type": "markdown",
   "id": "e0c44e07",
   "metadata": {},
   "source": [
    "# Orientations"
   ]
  },
  {
   "cell_type": "code",
   "execution_count": null,
   "id": "8d43e1c2",
   "metadata": {},
   "outputs": [],
   "source": [
    "import numpy as np\n",
    "from materialite import Orientation, Material"
   ]
  },
  {
   "cell_type": "markdown",
   "id": "6f518b66",
   "metadata": {},
   "source": [
    "`Orientation`s in Materialite represent a basis transformation from one coordinate frame to another. In the language of materials science, the transformation is from a \"specimen\" (or \"sample\" or \"lab\") frame to a \"crystal\" frame.\n",
    "\n",
    "Make an `Orientation` representing the Goss orientation. We'll use the `from_euler_angles` method, which expects a set of Bunge Euler angles in radians. The Bunge Euler angles represent a rotation about the specimen `z` axis, followed by a rotation about the new `x` axis, followed by a rotation about the new `z` axis. The three angles are often defined as $\\phi_1$, $\\Phi$, and $\\phi_2$, respectively.\n",
    "\n",
    "As an example, create the Goss orientation, which requires only a $\\pi/4$ or $45^\\circ$ rotation about the `x` axis."
   ]
  },
  {
   "cell_type": "code",
   "execution_count": null,
   "id": "02874be1",
   "metadata": {},
   "outputs": [],
   "source": [
    "orientation = Orientation.from_euler_angles([0.0, np.pi / 4, 0.0])\n",
    "print(f\"rotation matrix:\\n {orientation.rotation_matrix}\")\n",
    "print(f\"Bunge Euler angles: {orientation.euler_angles}\")\n",
    "print(f\"Bunge Euler angles in degrees: {orientation.euler_angles_in_degrees}\")"
   ]
  },
  {
   "cell_type": "markdown",
   "id": "f96c5acd",
   "metadata": {},
   "source": [
    "The rows of the rotation matrix represent the crystal basis vectors expressed in the specimen frame. The columns represent the specimen basis vectors expressed in the crystal frame. Here, the specimen $[100]$ direction is aligned with the crystal $[100]$ direction, the specimen $[010]$ direction is aligned with the crystal $[01\\bar{1}]$ direction, and the specimen $[001]$ direction is aligned with the crystal $[011]$ direction."
   ]
  },
  {
   "cell_type": "markdown",
   "id": "0863c621",
   "metadata": {},
   "source": [
    "We can also construct the `Orientation` using the Euler angles in degrees if we set the `in_degrees` argument to `True`."
   ]
  },
  {
   "cell_type": "code",
   "execution_count": null,
   "id": "faa26fa4",
   "metadata": {},
   "outputs": [],
   "source": [
    "orientation = Orientation.from_euler_angles([0.0, 45.0, 0.0], in_degrees=True)\n",
    "print(f\"Bunge Euler angles in degrees: {orientation.euler_angles_in_degrees}\")"
   ]
  },
  {
   "cell_type": "markdown",
   "id": "77ca25d6",
   "metadata": {},
   "source": [
    "`Orientation`s can have dimensions, just like `Tensor`s (see the `Tensor` demo for details). The default representation of an `Orientation` is the Euler angles in radians."
   ]
  },
  {
   "cell_type": "code",
   "execution_count": null,
   "id": "51a4c446",
   "metadata": {},
   "outputs": [],
   "source": [
    "orientations = Orientation.from_euler_angles(\n",
    "    [[0.0, 45.0, 0.0], [35.0, 45.0, 0.0]], in_degrees=True\n",
    ")\n",
    "orientations"
   ]
  },
  {
   "cell_type": "markdown",
   "id": "8ea39735",
   "metadata": {},
   "source": [
    "We can also generate random orientations."
   ]
  },
  {
   "cell_type": "code",
   "execution_count": null,
   "id": "07d2acd4",
   "metadata": {},
   "outputs": [],
   "source": [
    "rng = np.random.default_rng(0)\n",
    "orientations = Orientation.random(shape=1, rng=rng)\n",
    "print(orientations)\n",
    "orientations = Orientation.random(shape=3, rng=rng)\n",
    "print(orientations)"
   ]
  },
  {
   "cell_type": "markdown",
   "id": "c102ca8b",
   "metadata": {},
   "source": [
    "We can pass a multi-dimensional shape to `Orientation.random` as well, which will produce an `Orientation` with an additional dimension. Like with `Tensor`s, the first two dimensions are \"points\" and \"slip systems\" by default, but this can be changed by specifying a string for the `dims` argument."
   ]
  },
  {
   "cell_type": "code",
   "execution_count": null,
   "id": "eae48c06",
   "metadata": {},
   "outputs": [],
   "source": [
    "rng = np.random.default_rng(0)\n",
    "orientations = Orientation.random(shape=(3, 2), rng=rng)\n",
    "print(orientations)\n",
    "print(\"\\n\")\n",
    "orientations = Orientation.random(shape=(3, 2), rng=rng, dims=\"pa\")\n",
    "print(orientations)"
   ]
  },
  {
   "cell_type": "markdown",
   "id": "dea5aabb",
   "metadata": {},
   "source": [
    "Note that the Euler angles are always mapped to $\\ -\\pi \\le \\phi_1 < \\pi,\\ 0 \\le \\Phi < \\pi,\\ $ and $\\ -\\pi \\le \\phi_2 < \\pi$.\n",
    "\n",
    "We can add `Orientation`s as fields to a `Material` in several ways. Assign the identity `Orientation` to all points (useful for simple constitutive models):"
   ]
  },
  {
   "cell_type": "code",
   "execution_count": null,
   "id": "3902e94b",
   "metadata": {},
   "outputs": [],
   "source": [
    "Material(dimensions=[2, 2, 2]).create_uniform_field(\n",
    "    \"orientation\", Orientation.identity()\n",
    ").get_fields()"
   ]
  },
  {
   "cell_type": "markdown",
   "id": "1cdcf706",
   "metadata": {},
   "source": [
    "Assign the same random `Orientation` to all points:"
   ]
  },
  {
   "cell_type": "code",
   "execution_count": null,
   "id": "a76e6178",
   "metadata": {},
   "outputs": [],
   "source": [
    "Material(dimensions=[2, 2, 2]).create_uniform_field(\n",
    "    \"orientation\", Orientation.random(1)\n",
    ").get_fields()"
   ]
  },
  {
   "cell_type": "markdown",
   "id": "fdcfb931",
   "metadata": {},
   "source": [
    "Assign a different random `Orientation` to each point:"
   ]
  },
  {
   "cell_type": "code",
   "execution_count": null,
   "id": "20066c9b",
   "metadata": {},
   "outputs": [],
   "source": [
    "orientations = Orientation.random(8)\n",
    "Material(dimensions=[2, 2, 2]).create_fields({\"orientation\": orientations}).get_fields()"
   ]
  },
  {
   "cell_type": "markdown",
   "id": "bb5c6d09",
   "metadata": {},
   "source": [
    "`Orientation`s can be composed using the `@` operator. Just like `Tensor`s, the `@` operator will work with arbitrary dimensions."
   ]
  },
  {
   "cell_type": "code",
   "execution_count": null,
   "id": "b2b092fc",
   "metadata": {},
   "outputs": [],
   "source": [
    "orientation1 = Orientation.from_euler_angles([0.0, 60.0, 0.0], in_degrees=True)\n",
    "orientation2 = Orientation.from_euler_angles([0.0, 30.0, 0.0], in_degrees=True)\n",
    "print((orientation1 @ orientation2))\n",
    "orientation3 = Orientation.from_euler_angles(\n",
    "    [[0.0, 30.0, 0.0], [45.0, 0.0, 0.0]], in_degrees=True\n",
    ")\n",
    "print((orientation1 @ orientation3))"
   ]
  },
  {
   "cell_type": "markdown",
   "id": "b0e989cd",
   "metadata": {},
   "source": [
    "`Orientation`s can also be constructed from Miller indices. Here, we provide the crystal plane normal that is parallel to the specimen ND/[001]/z direction and the crystal direction that is parallel to the RD/[100]/x direction. As an example, we will make the Goss orientation again."
   ]
  },
  {
   "cell_type": "code",
   "execution_count": null,
   "id": "1429ad6e",
   "metadata": {},
   "outputs": [],
   "source": [
    "Orientation.from_miller_indices(\n",
    "    plane=[0, 1, 1], direction=[1, 0, 0]\n",
    ").euler_angles_in_degrees"
   ]
  },
  {
   "cell_type": "markdown",
   "id": "9ef9848f",
   "metadata": {},
   "source": [
    "You can also provide multiple pairs of planes and directions. Here, we'll create two variants of the Goss orientation."
   ]
  },
  {
   "cell_type": "code",
   "execution_count": null,
   "id": "722c77dd",
   "metadata": {},
   "outputs": [],
   "source": [
    "Orientation.from_miller_indices(\n",
    "    plane=[[0, 1, 1], [0, 1, 1]], direction=[[1, 0, 0], [0, 0, 1]]\n",
    ").euler_angles_in_degrees"
   ]
  }
 ],
 "metadata": {
  "kernelspec": {
   "display_name": "materialite",
   "language": "python",
   "name": "python3"
  },
  "language_info": {
   "codemirror_mode": {
    "name": "ipython",
    "version": 3
   },
   "file_extension": ".py",
   "mimetype": "text/x-python",
   "name": "python",
   "nbconvert_exporter": "python",
   "pygments_lexer": "ipython3",
   "version": "3.13.5"
  }
 },
 "nbformat": 4,
 "nbformat_minor": 5
}
