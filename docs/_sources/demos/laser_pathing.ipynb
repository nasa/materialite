{
 "cells": [
  {
   "cell_type": "markdown",
   "id": "a7f5132a",
   "metadata": {},
   "source": [
    "# AM Laser Pathing"
   ]
  },
  {
   "cell_type": "code",
   "execution_count": null,
   "id": "94667c1a",
   "metadata": {
    "tags": [
     "remove-cell"
    ]
   },
   "outputs": [],
   "source": [
    "import pyvista as pv\n",
    "\n",
    "pv.set_jupyter_backend(\"static\")\n",
    "\n",
    "%load_ext autoreload\n",
    "%autoreload 2"
   ]
  },
  {
   "cell_type": "code",
   "execution_count": null,
   "id": "7b4f3ce4-ba3c-43ac-b792-40882dcf936e",
   "metadata": {},
   "outputs": [],
   "source": [
    "from materialite.models.grain_coarsening_model import GrainCoarseningModel\n",
    "from materialite.models.convolution_model import LaserBeam\n",
    "from materialite import Material\n",
    "import numpy as np"
   ]
  },
  {
   "cell_type": "markdown",
   "id": "6eef313e-bec8-4177-8bc7-3d097aed2232",
   "metadata": {},
   "source": [
    "The convolution, convolution_gpu, and convolution_microstructure models contain a laser beam class designed to auto-generate beam pathing. In the plot, the blue dashed line represents the scan path, and the red dots represent the discrete points along the path that would be used in an incremental model."
   ]
  },
  {
   "cell_type": "code",
   "execution_count": null,
   "id": "6df47e6a-d3eb-4622-8f01-bd23d89bd93f",
   "metadata": {},
   "outputs": [],
   "source": [
    "material = Material(dimensions=[100, 100, 102], spacing=[5e-6, 5e-6, 5e-6])\n",
    "laser = LaserBeam(\n",
    "    material,\n",
    "    laser_power=100,\n",
    "    hatch_spacing=20,\n",
    "    beam_x_radius=50.0e-6,\n",
    "    beam_y_radius=50.0e-6,\n",
    "    beam_z_radius=30.0e-6,\n",
    "    num_layers=10,\n",
    "    scan_offset_start=0,\n",
    "    hatch_offset_start=0,\n",
    "    hatch_offset_end=0,\n",
    "    z_start=30,\n",
    "    layer_thickness=8,\n",
    "    time_between_scans=0.000001,\n",
    "    time_between_layers=0.0,\n",
    "    rotation_angle_increment=np.deg2rad(67),\n",
    ")\n",
    "\n",
    "laser.create_build_path(material, adjust_domain=False, domain_epsilon=5e-6)\n",
    "laser.plot_beam_path()"
   ]
  },
  {
   "cell_type": "markdown",
   "id": "303762bc-f134-4b3a-8ea3-68c6594a245b",
   "metadata": {},
   "source": [
    "It is able to generate relatively complex patterns with multiple layers. However, the design of the class causes points to be generated outside of the processing domain (0-100 in x and 0-100 in y in this case). This can be adjusted by adding 'adjust_domain=True'. The domain_epsilon term gives some flexibilty on how close to or far out of the domain to allow points to generate. Three examples are shown below. "
   ]
  },
  {
   "cell_type": "code",
   "execution_count": null,
   "id": "5af58c40-4498-4c2c-a16b-b258d69f3959",
   "metadata": {},
   "outputs": [],
   "source": [
    "laser.create_build_path(material, adjust_domain=True, domain_epsilon=5e-6)\n",
    "laser.plot_beam_path()\n",
    "laser.create_build_path(material, adjust_domain=True, domain_epsilon=-10e-6)\n",
    "laser.plot_beam_path()\n",
    "laser.create_build_path(material, adjust_domain=True, domain_epsilon=20e-6)\n",
    "laser.plot_beam_path()"
   ]
  },
  {
   "cell_type": "markdown",
   "id": "8a7ef2d2-b9bd-4f74-8aeb-a9d412678ac7",
   "metadata": {},
   "source": [
    "Geometric inputs (hatch spacing, layer thickness, offset values, and z_start) other than beam radius are in units of voxels to make it easier to sync with the material dimensions. The offset start and end values can be used to adjust where a line starts and ends for path design. Here is a case with only one layer. `create_build_path` needs to be re-called to regenerate the path. "
   ]
  },
  {
   "cell_type": "code",
   "execution_count": null,
   "id": "3a95b635-f8b3-4a2b-8c36-94b8bfa92f23",
   "metadata": {},
   "outputs": [],
   "source": [
    "material = Material(dimensions=[100, 50, 30], spacing=[5e-6, 5e-6, 5e-6])\n",
    "laser = LaserBeam(\n",
    "    material,\n",
    "    laser_power=100,\n",
    "    hatch_spacing=20,\n",
    "    beam_x_radius=50.0e-6,\n",
    "    beam_y_radius=50.0e-6,\n",
    "    beam_z_radius=30.0e-6,\n",
    "    num_layers=1,\n",
    "    scan_offset_start=0,\n",
    "    hatch_offset_start=0,\n",
    "    hatch_offset_end=0,\n",
    "    z_start=30,\n",
    "    layer_thickness=8,\n",
    "    time_between_scans=0.000001,\n",
    "    time_between_layers=0.0,\n",
    "    rotation_angle_increment=np.deg2rad(67),\n",
    ")\n",
    "\n",
    "laser.create_build_path(material, adjust_domain=False, domain_epsilon=5e-6)\n",
    "laser.plot_beam_path()\n",
    "\n",
    "laser.hatch_offset_end = -10\n",
    "laser.hatch_offset_start = 5\n",
    "laser.scan_offset_start = -5\n",
    "laser.create_build_path(material, adjust_domain=False, domain_epsilon=5e-6)\n",
    "laser.plot_beam_path()"
   ]
  },
  {
   "cell_type": "markdown",
   "id": "184e0d37-1190-4410-8739-2a8daf238198",
   "metadata": {},
   "source": [
    "The spacing between points is dependent on the laser scanning velocity. It is limited to there is no more than one voxel traveled between time steps. This is to prevent solidification issues in the convolution microstructure models. The position, time steps, and other parameters can be easily accessed. The first step has zero time and power to help initiate the simulation."
   ]
  },
  {
   "cell_type": "code",
   "execution_count": null,
   "id": "bda62ab1-bf71-45d4-8480-cf041c38182e",
   "metadata": {},
   "outputs": [],
   "source": [
    "print(\"X-position (m):\", laser.x_pos[0:5])\n",
    "print(\"Laser Power (W):\", laser.beam_power[0:5])\n",
    "print(\"Time (s):\", laser.time[0:5])"
   ]
  }
 ],
 "metadata": {
  "kernelspec": {
   "display_name": "materialite",
   "language": "python",
   "name": "python3"
  },
  "language_info": {
   "codemirror_mode": {
    "name": "ipython",
    "version": 3
   },
   "file_extension": ".py",
   "mimetype": "text/x-python",
   "name": "python",
   "nbconvert_exporter": "python",
   "pygments_lexer": "ipython3",
   "version": "3.13.5"
  }
 },
 "nbformat": 4,
 "nbformat_minor": 5
}
