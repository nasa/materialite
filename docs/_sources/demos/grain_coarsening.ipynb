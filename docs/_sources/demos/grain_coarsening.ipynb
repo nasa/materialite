{
 "cells": [
  {
   "cell_type": "markdown",
   "id": "a456a5c4",
   "metadata": {},
   "source": [
    "# Grain Coarsening"
   ]
  },
  {
   "cell_type": "code",
   "execution_count": null,
   "id": "5ecb086e",
   "metadata": {
    "tags": [
     "remove-cell"
    ]
   },
   "outputs": [],
   "source": [
    "import pyvista as pv\n",
    "\n",
    "pv.set_jupyter_backend(\"static\")\n",
    "\n",
    "%load_ext autoreload\n",
    "%autoreload 2"
   ]
  },
  {
   "cell_type": "code",
   "execution_count": null,
   "id": "189a7e6e-fc4f-4587-b244-4e9768481d04",
   "metadata": {},
   "outputs": [],
   "source": [
    "from materialite import Material\n",
    "import numpy as np\n",
    "from materialite.models.grain_coarsening_model import (\n",
    "    GrainCoarseningModel,\n",
    "    calculate_potts_energy,\n",
    ")"
   ]
  },
  {
   "cell_type": "markdown",
   "id": "2d2978e4-bd3c-49da-ac39-ff38655be770",
   "metadata": {},
   "source": [
    "Materialite implements a \"Grain Coarsening\" model, which uses the kinetic Potts Monte Carlo method to simulate grain coarsening during heat treatment.\n",
    "A grain coarsening model requires three input fields:\n",
    "- A \"grain\" integer field which represents grains within a material. Historically, kinetic Potts Monte Carlo models have used the term \"spin\" for this quantity.\n",
    "- A \"temperature\" field that represents a real or pseudo-temperature field.\n",
    "- A \"mobility\" field that reflects how mobile or how likely individual sites are to flip.\n",
    "\n",
    "The temperature and mobility fields are interrelated with one another. Temperature by itself does not impact the simulation. However, there is often a temperature-mobility relationship that relates the temperature to the mobility.\n",
    "For now, we can assign them both to be one, create a grain field with values from 0 to 20, and plot it. "
   ]
  },
  {
   "cell_type": "code",
   "execution_count": null,
   "id": "74cbab49-d0d8-42c9-b3e6-a7b3c46ef9c0",
   "metadata": {},
   "outputs": [],
   "source": [
    "material = (\n",
    "    Material(dimensions=[40, 40, 40])\n",
    "    .create_random_integer_field(\"grain\", 0, 20)\n",
    "    .create_uniform_field(\"temperature\", 1.0)\n",
    "    .create_uniform_field(\"mobility\", 1.0)\n",
    ")\n",
    "material.plot(\"grain\")"
   ]
  },
  {
   "cell_type": "markdown",
   "id": "148ca595-1c5b-46fc-84fa-042e7ae28e87",
   "metadata": {},
   "source": [
    "Each site has been randomly assigned a grain value between 0 and 20. There are repeated values, so more than one site can share the same value. One way of thinking about it is by considering each grain id as corresponding to unique a crystallographic orientation.\n",
    "\n",
    "The grain coarsening model takes various inputs, including the maximum integer value of the grains, and the number of flip attempts to try. When running the model, it needs to know what the grain field has been called. \n",
    "\n",
    "After running the model, the grain field can be visualized again. We see that the grains have been coarsened and it looks closer to an equiaxed microstructure."
   ]
  },
  {
   "cell_type": "code",
   "execution_count": null,
   "id": "3ee395b2-280b-45e2-936e-fe08e8da03fc",
   "metadata": {
    "scrolled": true
   },
   "outputs": [],
   "source": [
    "model = GrainCoarseningModel(\n",
    "    max_grain_id=20,\n",
    "    num_flip_attempts=3e5,\n",
    ")\n",
    "\n",
    "\n",
    "coarsened_material = model.run(material)\n",
    "\n",
    "\n",
    "coarsened_material.plot(\"grain\")"
   ]
  },
  {
   "cell_type": "markdown",
   "id": "dc8c9422-f2b0-46e5-a5e2-52fcd572bda1",
   "metadata": {},
   "source": [
    "If more Monte Carlo flip attempts are taken, the structure will be further coarsened."
   ]
  },
  {
   "cell_type": "code",
   "execution_count": null,
   "id": "bdc73206-1c97-41df-aa1a-4cb6751c6236",
   "metadata": {},
   "outputs": [],
   "source": [
    "bigger_model = GrainCoarseningModel(\n",
    "    max_grain_id=20,\n",
    "    num_flip_attempts=2e6,\n",
    ")\n",
    "\n",
    "\n",
    "extra_coarsened_material = bigger_model.run(material)\n",
    "\n",
    "\n",
    "extra_coarsened_material.plot(\"grain\")"
   ]
  },
  {
   "cell_type": "markdown",
   "id": "807e2240-200a-44c9-9ab8-c3714cdc1507",
   "metadata": {},
   "source": [
    "The total Monte Carlo energy of the three states (the initial material, coarsened material, and extra coarsened material) can be compared. This typically decreases logarithmically with the number of Monte Carlo steps. "
   ]
  },
  {
   "cell_type": "code",
   "execution_count": null,
   "id": "0cc0b0b5-40ac-43a8-b149-99f883e5c150",
   "metadata": {},
   "outputs": [],
   "source": [
    "print(\"Energy before:\", calculate_potts_energy(material, model))\n",
    "print(\"Energy after coarsening:\", calculate_potts_energy(coarsened_material, model))\n",
    "print(\n",
    "    \"Energy after extra coarsening:\",\n",
    "    calculate_potts_energy(extra_coarsened_material, model),\n",
    ")"
   ]
  },
  {
   "cell_type": "markdown",
   "id": "77d5c799-dd49-4199-a5e2-c361cf7569fb",
   "metadata": {},
   "source": [
    "The mobility field can be used to simulate phenomena such as pinning. "
   ]
  },
  {
   "cell_type": "code",
   "execution_count": null,
   "id": "9df49499-d230-45d8-93dd-964b1791b402",
   "metadata": {},
   "outputs": [],
   "source": [
    "rng = np.random.default_rng(0)\n",
    "pinned_points = rng.choice(material.num_points, 5000, replace=False)\n",
    "pinned_field = material.extract(\"mobility\")\n",
    "pinned_field[pinned_points] = 0.0\n",
    "pinned_material = material.create_fields({\"mobility\": pinned_field})\n",
    "pinned_material.plot(\"mobility\")"
   ]
  },
  {
   "cell_type": "code",
   "execution_count": null,
   "id": "fa238db3-4d20-40dd-b637-3c181a05eeca",
   "metadata": {},
   "outputs": [],
   "source": [
    "extra_coarsened_pinned_material = bigger_model.run(pinned_material)\n",
    "extra_coarsened_pinned_material.plot(\"grain\")"
   ]
  },
  {
   "cell_type": "code",
   "execution_count": null,
   "id": "51ea2e14-f7bb-4d7b-87a2-53c0ae76fde9",
   "metadata": {},
   "outputs": [],
   "source": [
    "print(\n",
    "    \"Energy after coarsening with no pinning:\",\n",
    "    calculate_potts_energy(extra_coarsened_material, model),\n",
    ")\n",
    "\n",
    "\n",
    "print(\n",
    "    \"Energy after coarsening with pinning:\",\n",
    "    calculate_potts_energy(extra_coarsened_pinned_material, model),\n",
    ")"
   ]
  },
  {
   "cell_type": "markdown",
   "id": "92e1f289-959e-4b95-aa73-b4a350eb47de",
   "metadata": {},
   "source": [
    "Mobility and temperature can also be tied together by defining and passing in a temperature/mobility relationship. First, we create a temperature field that is linearly related to the z-position:"
   ]
  },
  {
   "cell_type": "code",
   "execution_count": null,
   "id": "13418ad6-6ee6-4266-9d56-286823206222",
   "metadata": {},
   "outputs": [],
   "source": [
    "z_coordinates = material.extract(\"z\")\n",
    "linear_temperature = z_coordinates / z_coordinates.max()\n",
    "material = material.create_fields({\"temperature\": linear_temperature})\n",
    "material.plot(\"temperature\")"
   ]
  },
  {
   "cell_type": "markdown",
   "id": "6446a9a2-f191-4251-9a22-d21fc913d8cd",
   "metadata": {},
   "source": [
    "Now we define a relationship between temperature and mobility, pass it into a model, and run:"
   ]
  },
  {
   "cell_type": "code",
   "execution_count": null,
   "id": "61aec0c9-148b-4a1c-ae49-c1fe10872059",
   "metadata": {},
   "outputs": [],
   "source": [
    "def mobility_temperature_relationship(temperature):\n",
    "    return temperature**2\n",
    "\n",
    "\n",
    "temperature_model = GrainCoarseningModel(\n",
    "    max_grain_id=20,\n",
    "    num_flip_attempts=2e6,\n",
    "    temperature_mobility_relationship=mobility_temperature_relationship,\n",
    ")"
   ]
  },
  {
   "cell_type": "code",
   "execution_count": null,
   "id": "a78c0450-fb2b-4fb3-bb51-07d6cb93ad3b",
   "metadata": {},
   "outputs": [],
   "source": [
    "temperature_material = temperature_model.run(material)\n",
    "temperature_material.plot(\"grain\")"
   ]
  },
  {
   "cell_type": "markdown",
   "id": "819b2d21-2aef-4f6d-9878-b614879e5ec9",
   "metadata": {},
   "source": [
    "Mobility decreases to zero as it approaches the bottom of the domain, which causes minimal refinement in that portion of the material."
   ]
  }
 ],
 "metadata": {
  "kernelspec": {
   "display_name": "materialite",
   "language": "python",
   "name": "python3"
  },
  "language_info": {
   "codemirror_mode": {
    "name": "ipython",
    "version": 3
   },
   "file_extension": ".py",
   "mimetype": "text/x-python",
   "name": "python",
   "nbconvert_exporter": "python",
   "pygments_lexer": "ipython3",
   "version": "3.13.5"
  }
 },
 "nbformat": 4,
 "nbformat_minor": 5
}
