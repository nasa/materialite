{
 "cells": [
  {
   "cell_type": "markdown",
   "metadata": {},
   "source": [
    "# Crystallography"
   ]
  },
  {
   "cell_type": "code",
   "execution_count": null,
   "metadata": {
    "tags": [
     "remove-cell"
    ]
   },
   "outputs": [],
   "source": [
    "import pyvista as pv\n",
    "\n",
    "pv.set_jupyter_backend(\"static\")"
   ]
  },
  {
   "cell_type": "code",
   "execution_count": null,
   "metadata": {},
   "outputs": [],
   "source": [
    "from materialite import (\n",
    "    Orientation,\n",
    "    Vector,\n",
    "    Order4SymmetricTensor,\n",
    "    SlipSystem,\n",
    "    add_ipf_colors_field,\n",
    "    get_ipf,\n",
    "    import_dream3d,\n",
    ")\n",
    "\n",
    "import matplotlib.pyplot as plt\n",
    "import numpy as np"
   ]
  },
  {
   "cell_type": "markdown",
   "metadata": {},
   "source": [
    "Import data from DREAM.3D and visualize the grain structure."
   ]
  },
  {
   "cell_type": "code",
   "execution_count": null,
   "metadata": {},
   "outputs": [],
   "source": [
    "data_container = \"DataContainers/SyntheticVolumeDataContainer\"\n",
    "material = import_dream3d(\n",
    "    file=\"ipf_example/example_for_ipf_map.dream3d\",\n",
    "    simpl_geometry_path=f\"{data_container}/_SIMPL_GEOMETRY\",\n",
    "    region_id_path=f\"{data_container}/EBSD Scan Data/FeatureIds\",\n",
    "    region_field_paths=[\n",
    "        f\"{data_container}/Grain Data/EulerAngles\",\n",
    "    ],\n",
    ")\n",
    "material.plot(\"feature_ids\")"
   ]
  },
  {
   "cell_type": "markdown",
   "metadata": {},
   "source": [
    "Create orientations using the pointwise Euler angles imported from DREAM.3D, and add them as a field to the `Material`. Materialite uses the same Euler angle convention as DREAM.3D, specifically the Bunge Euler angles representing a basis transformation from the specimen reference frame to the crystal reference frame."
   ]
  },
  {
   "cell_type": "code",
   "execution_count": null,
   "metadata": {},
   "outputs": [],
   "source": [
    "eulers = material.extract([\"euler_angles_1\", \"euler_angles_2\", \"euler_angles_3\"])\n",
    "orientations = Orientation.from_euler_angles(eulers)\n",
    "material = material.create_fields({\"orientation\": orientations})"
   ]
  },
  {
   "cell_type": "markdown",
   "metadata": {},
   "source": [
    "Use the orientations to compute the maximum Schmid factor at each point, assuming an FCC material (i.e., with the octahedral slip systems) and loading in the specimen \"z\" direction. We can do this by representing the loading direction within the reference frames of the crystals and using the `max_schmid_factor` method of the slip systems."
   ]
  },
  {
   "cell_type": "code",
   "execution_count": null,
   "metadata": {},
   "outputs": [],
   "source": [
    "loading_direction = Vector([0.0, 0.0, 1.0])\n",
    "slip_systems = SlipSystem.octahedral()\n",
    "crystal_loading_directions = loading_direction.to_crystal_frame(orientations)\n",
    "max_schmid_factors = slip_systems.max_schmid_factor(crystal_loading_directions)"
   ]
  },
  {
   "cell_type": "markdown",
   "metadata": {},
   "source": [
    "We could also calculate the Schmid factors by represent the Schmid tensors in the specimen reference frame. Here, we explicitly do the calculation $m_{max} = \\mathbf{M} : (\\mathbf{d} \\otimes \\mathbf{d})$, where $m_{max}$ is the max Schmid factor in a crystal, $\\mathbf{M}$ is the crystal Schmid tensor, and $\\mathbf{d}$ is the loading direction."
   ]
  },
  {
   "cell_type": "code",
   "execution_count": null,
   "metadata": {},
   "outputs": [],
   "source": [
    "specimen_schmid_tensors = slip_systems.schmid_tensor.to_specimen_frame(orientations)\n",
    "max_schmid_factors2 = (\n",
    "    specimen_schmid_tensors * loading_direction.outer(loading_direction)\n",
    ").abs.max(\"s\")"
   ]
  },
  {
   "cell_type": "markdown",
   "metadata": {},
   "source": [
    "Verify that the two calculations match."
   ]
  },
  {
   "cell_type": "code",
   "execution_count": null,
   "metadata": {},
   "outputs": [],
   "source": [
    "np.allclose(max_schmid_factors.components, max_schmid_factors2.components)"
   ]
  },
  {
   "cell_type": "markdown",
   "metadata": {},
   "source": [
    "Use the orientations to compute the stiffness in the loading direction at each point."
   ]
  },
  {
   "cell_type": "code",
   "execution_count": null,
   "metadata": {},
   "outputs": [],
   "source": [
    "stiffness_tensor = Order4SymmetricTensor.from_cubic_constants(C11=250, C12=160, C44=120)\n",
    "directional_moduli = stiffness_tensor.directional_modulus(crystal_loading_directions)"
   ]
  },
  {
   "cell_type": "markdown",
   "metadata": {},
   "source": [
    "Again, we could also do this calculation in the specimen frame instead."
   ]
  },
  {
   "cell_type": "code",
   "execution_count": null,
   "metadata": {},
   "outputs": [],
   "source": [
    "specimen_frame_stiffness_tensors = stiffness_tensor.to_specimen_frame(orientations)\n",
    "directional_moduli2 = specimen_frame_stiffness_tensors.directional_modulus(\n",
    "    loading_direction\n",
    ")\n",
    "np.allclose(directional_moduli.components, directional_moduli2.components)"
   ]
  },
  {
   "cell_type": "markdown",
   "metadata": {},
   "source": [
    "Add fields to the material for the max Schmid factor, the directional modulus, and an IPF map with respect to the loading direction. The function `add_ipf_colors_field` requires the name of the field containing the `Orientation` of each point, the loading direction (as a list, numpy array, or Materialite `Vector`), and the type of unit cell (cubic or hexagonal)."
   ]
  },
  {
   "cell_type": "code",
   "execution_count": null,
   "metadata": {},
   "outputs": [],
   "source": [
    "material = material.create_fields(\n",
    "    {\n",
    "        \"orientation\": orientations,\n",
    "        \"max_schmid_factor\": max_schmid_factors,\n",
    "        \"directional_modulus\": directional_moduli,\n",
    "    }\n",
    ").run(\n",
    "    add_ipf_colors_field,\n",
    "    orientation_label=\"orientation\",\n",
    "    specimen_frame_direction=loading_direction,\n",
    "    unit_cell=\"cubic\",\n",
    ")"
   ]
  },
  {
   "cell_type": "markdown",
   "metadata": {},
   "source": [
    "Plot the new fields that we created. This turns out to be an interesting case since there's one grain that deviates from the fairly strong texture."
   ]
  },
  {
   "cell_type": "code",
   "execution_count": null,
   "metadata": {},
   "outputs": [],
   "source": [
    "material.plot(\"directional_modulus\")"
   ]
  },
  {
   "cell_type": "code",
   "execution_count": null,
   "metadata": {},
   "outputs": [],
   "source": [
    "material.plot(\"max_schmid_factor\")"
   ]
  },
  {
   "cell_type": "code",
   "execution_count": null,
   "metadata": {},
   "outputs": [],
   "source": [
    "material.plot(\"ipf_color\", kind=\"ipf_map\")"
   ]
  },
  {
   "cell_type": "markdown",
   "metadata": {},
   "source": [
    "Here is the IPF map legend:"
   ]
  },
  {
   "cell_type": "code",
   "execution_count": null,
   "metadata": {},
   "outputs": [],
   "source": [
    "from PIL import Image\n",
    "import numpy as np\n",
    "\n",
    "ipf_legend = np.asarray(Image.open(\"ipf_example/ipf_map_legend_cubic.png\"))\n",
    "fig, ax = plt.subplots()\n",
    "ax.imshow(ipf_legend)\n",
    "ax.axis(\"off\")"
   ]
  },
  {
   "cell_type": "markdown",
   "metadata": {},
   "source": [
    "Make an inverse pole figure on the standard stereographic triangle. The `get_ipf` function takes the same inputs as `add_ipf_colors_field`. It returns the point on the IPF for each point in the `Material` and the boundary of the SST so that we can make a scatterplot of the IPF."
   ]
  },
  {
   "cell_type": "code",
   "execution_count": null,
   "metadata": {},
   "outputs": [],
   "source": [
    "ipf_points, ipf_boundary = get_ipf(\n",
    "    specimen_frame_direction=loading_direction,\n",
    "    orientations=orientations,\n",
    "    unit_cell=\"cubic\",\n",
    ")\n",
    "fig, ax = plt.subplots()\n",
    "ax.plot(ipf_boundary[:, 0], ipf_boundary[:, 1], \"k\")\n",
    "ax.scatter(ipf_points[:, 0], ipf_points[:, 1])\n",
    "# labels for crystal directions:\n",
    "ax.text(\n",
    "    -0.05,\n",
    "    -0.01,\n",
    "    \"$[001]$\",\n",
    "    horizontalalignment=\"left\",\n",
    "    verticalalignment=\"top\",\n",
    "    fontsize=36,\n",
    ")\n",
    "ax.text(\n",
    "    0.35,\n",
    "    -0.01,\n",
    "    \"$[101]$\",\n",
    "    horizontalalignment=\"left\",\n",
    "    verticalalignment=\"top\",\n",
    "    fontsize=36,\n",
    ")\n",
    "ax.text(\n",
    "    0.3,\n",
    "    0.37,\n",
    "    \"$[111]$\",\n",
    "    horizontalalignment=\"left\",\n",
    "    verticalalignment=\"bottom\",\n",
    "    fontsize=36,\n",
    ")\n",
    "ax.set_aspect(1.0)\n",
    "ax.axis(\"off\")"
   ]
  },
  {
   "cell_type": "markdown",
   "metadata": {},
   "source": [
    "Do the same thing but with a hexagonal unit cell and the basal and prismatic slip systems"
   ]
  },
  {
   "cell_type": "code",
   "execution_count": null,
   "metadata": {},
   "outputs": [],
   "source": [
    "material = (\n",
    "    material.remove_field(\"ipf_color\")\n",
    "    .remove_field(\"directional_modulus\")\n",
    "    .remove_field(\"max_schmid_factor\")\n",
    ")"
   ]
  },
  {
   "cell_type": "code",
   "execution_count": null,
   "metadata": {},
   "outputs": [],
   "source": [
    "slip_systems = SlipSystem.basal().concatenate(slip_systems.prismatic())\n",
    "max_schmid_factors = slip_systems.max_schmid_factor(crystal_loading_directions)\n",
    "\n",
    "stiffness_tensor = Order4SymmetricTensor.from_transverse_isotropic_constants(\n",
    "    C11=160, C12=90, C13=70, C33=180, C44=45\n",
    ")\n",
    "directional_moduli = stiffness_tensor.directional_modulus(crystal_loading_directions)"
   ]
  },
  {
   "cell_type": "code",
   "execution_count": null,
   "metadata": {},
   "outputs": [],
   "source": [
    "material = material.create_fields(\n",
    "    {\n",
    "        \"max_schmid_factor\": max_schmid_factors,\n",
    "        \"directional_modulus\": directional_moduli,\n",
    "    }\n",
    ").run(\n",
    "    add_ipf_colors_field,\n",
    "    orientation_label=\"orientation\",\n",
    "    specimen_frame_direction=loading_direction,\n",
    "    unit_cell=\"hexagonal\",\n",
    ")"
   ]
  },
  {
   "cell_type": "code",
   "execution_count": null,
   "metadata": {},
   "outputs": [],
   "source": [
    "material.plot(\"directional_modulus\")"
   ]
  },
  {
   "cell_type": "code",
   "execution_count": null,
   "metadata": {},
   "outputs": [],
   "source": [
    "material.plot(\"max_schmid_factor\")"
   ]
  },
  {
   "cell_type": "code",
   "execution_count": null,
   "metadata": {},
   "outputs": [],
   "source": [
    "material.plot(\"ipf_color\", kind=\"ipf_map\")"
   ]
  },
  {
   "cell_type": "code",
   "execution_count": null,
   "metadata": {},
   "outputs": [],
   "source": [
    "ipf_legend = np.asarray(Image.open(\"ipf_example/ipf_map_legend_hcp.png\"))\n",
    "fig, ax = plt.subplots()\n",
    "ax.imshow(ipf_legend)\n",
    "ax.axis(\"off\")"
   ]
  },
  {
   "cell_type": "code",
   "execution_count": null,
   "metadata": {},
   "outputs": [],
   "source": [
    "ipf_points, ipf_boundary = get_ipf(\n",
    "    specimen_frame_direction=loading_direction,\n",
    "    orientations=orientations,\n",
    "    unit_cell=\"hexagonal\",\n",
    ")\n",
    "fig, ax = plt.subplots()\n",
    "ax.plot(ipf_boundary[:, 0], ipf_boundary[:, 1], \"k\")\n",
    "ax.scatter(ipf_points[:, 0], ipf_points[:, 1])\n",
    "ax.text(\n",
    "    -0.15,\n",
    "    -0.02,\n",
    "    \"$[0001]$\",\n",
    "    horizontalalignment=\"left\",\n",
    "    verticalalignment=\"top\",\n",
    "    fontsize=36,\n",
    ")\n",
    "ax.text(\n",
    "    0.8,\n",
    "    -0.02,\n",
    "    \"$[2\\\\bar{1}\\\\bar{1}0]$\",\n",
    "    horizontalalignment=\"left\",\n",
    "    verticalalignment=\"top\",\n",
    "    fontsize=36,\n",
    ")\n",
    "ax.text(\n",
    "    0.65,\n",
    "    0.5,\n",
    "    \"$[10\\\\bar{1}0]$\",\n",
    "    horizontalalignment=\"left\",\n",
    "    verticalalignment=\"bottom\",\n",
    "    fontsize=36,\n",
    ")\n",
    "ax.set_aspect(1.0)\n",
    "ax.axis(\"off\")"
   ]
  },
  {
   "cell_type": "code",
   "execution_count": null,
   "metadata": {},
   "outputs": [],
   "source": []
  }
 ],
 "metadata": {
  "kernelspec": {
   "display_name": "materialite",
   "language": "python",
   "name": "python3"
  },
  "language_info": {
   "codemirror_mode": {
    "name": "ipython",
    "version": 3
   },
   "file_extension": ".py",
   "mimetype": "text/x-python",
   "name": "python",
   "nbconvert_exporter": "python",
   "pygments_lexer": "ipython3",
   "version": "3.13.5"
  }
 },
 "nbformat": 4,
 "nbformat_minor": 2
}
