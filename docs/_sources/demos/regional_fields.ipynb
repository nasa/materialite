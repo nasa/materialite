{
 "cells": [
  {
   "cell_type": "markdown",
   "metadata": {},
   "source": [
    "# Regional Fields"
   ]
  },
  {
   "cell_type": "code",
   "execution_count": null,
   "metadata": {
    "tags": [
     "remove-cell"
    ]
   },
   "outputs": [],
   "source": [
    "import pyvista as pv\n",
    "\n",
    "pv.set_jupyter_backend(\"static\")\n",
    "\n",
    "%load_ext autoreload\n",
    "%autoreload 2"
   ]
  },
  {
   "cell_type": "markdown",
   "metadata": {},
   "source": [
    "Regional fields are fields in a `Material` where the values are assigned to points by region in the material. Common uses of regional fields include assigning properties to different phases or orientations to different grains. Regional fields can be accessed exactly like regular fields, but there are also some additional utilities that are available."
   ]
  },
  {
   "cell_type": "markdown",
   "metadata": {},
   "source": [
    "First, create a `Material` with points assigned to different phases."
   ]
  },
  {
   "cell_type": "code",
   "execution_count": null,
   "metadata": {},
   "outputs": [],
   "source": [
    "import numpy as np\n",
    "\n",
    "from materialite import Material, Box\n",
    "from materialite.tensor import Orientation\n",
    "\n",
    "material = Material(dimensions=[4, 4, 4]).create_uniform_field(\"phase\", 1)\n",
    "box = Box(max_corner=[1, np.inf, np.inf])\n",
    "material = material.insert_feature(box, fields={\"phase\": 0})\n",
    "material.plot(\"phase\")"
   ]
  },
  {
   "cell_type": "markdown",
   "metadata": {},
   "source": [
    "Add a regional field: values of the `youngs_modulus` field will be assigned to points in the `Material` based on the value of `phase`. The arguments of the `create_regional_field` method are the label of the field that contains the region IDs (`\"phase\"` in this case) and a dictionary or Pandas `DataFrame` containing the unique region IDs and the corresponding values of the regional field(s)."
   ]
  },
  {
   "cell_type": "code",
   "execution_count": null,
   "metadata": {},
   "outputs": [],
   "source": [
    "regional_field = {\"phase\": [0, 1], \"youngs_modulus\": [10, 1000]}\n",
    "material = material.create_regional_fields(\n",
    "    region_label=\"phase\", regional_fields=regional_field\n",
    ")"
   ]
  },
  {
   "cell_type": "markdown",
   "metadata": {},
   "source": [
    "Use `get_fields` to check that values of the regional field are assigned correctly. Points with `phase=0` and `phase=1` should have `youngs_modulus=10` and `youngs_modulus=1000`, respectively."
   ]
  },
  {
   "cell_type": "code",
   "execution_count": null,
   "metadata": {},
   "outputs": [],
   "source": [
    "material.get_fields()"
   ]
  },
  {
   "cell_type": "markdown",
   "metadata": {},
   "source": [
    "We can also `extract` or `plot` the pointwise values of the `youngs_modulus` field."
   ]
  },
  {
   "cell_type": "code",
   "execution_count": null,
   "metadata": {},
   "outputs": [],
   "source": [
    "material.extract(\"youngs_modulus\")"
   ]
  },
  {
   "cell_type": "code",
   "execution_count": null,
   "metadata": {},
   "outputs": [],
   "source": [
    "material.plot(\"youngs_modulus\")"
   ]
  },
  {
   "cell_type": "markdown",
   "metadata": {},
   "source": [
    "You can add to already-existing regional fields. The regional fields can also be Materialite `Tensor`s, just like with regular fields."
   ]
  },
  {
   "cell_type": "code",
   "execution_count": null,
   "metadata": {},
   "outputs": [],
   "source": [
    "orientations = Orientation.from_euler_angles([[0, 0, 0], [np.pi / 4, 0, 0]])\n",
    "regional_field2 = {\n",
    "    \"phase\": [1, 0],\n",
    "    \"orientation\": orientations,\n",
    "}\n",
    "material = material.create_regional_fields(\"phase\", regional_field2)"
   ]
  },
  {
   "cell_type": "markdown",
   "metadata": {},
   "source": [
    "Note that points with `phase=1` should have all zero Euler angles, and points with phase=0 should not."
   ]
  },
  {
   "cell_type": "code",
   "execution_count": null,
   "metadata": {},
   "outputs": [],
   "source": [
    "material.get_fields()"
   ]
  },
  {
   "cell_type": "markdown",
   "metadata": {},
   "source": [
    "You can use `extract_regional_field` to get a `DataFrame` containing all the regional fields corresponding to a particular region label."
   ]
  },
  {
   "cell_type": "code",
   "execution_count": null,
   "metadata": {},
   "outputs": [],
   "source": [
    "material.extract_regional_field(region_label=\"phase\")"
   ]
  },
  {
   "cell_type": "markdown",
   "metadata": {},
   "source": [
    "We can also use `extract_regional_field` to extract values of one regional field."
   ]
  },
  {
   "cell_type": "code",
   "execution_count": null,
   "metadata": {},
   "outputs": [],
   "source": [
    "material.extract_regional_field(region_label=\"phase\", field_label=\"orientation\")"
   ]
  },
  {
   "cell_type": "markdown",
   "metadata": {},
   "source": [
    "If you need to do any indexing, you can use `get_region_indices` to extract the indices of `material.fields` corresponding to each region in the regional field. This method returns a dictionary whose keys are the region IDs and whose values are the associated indices."
   ]
  },
  {
   "cell_type": "code",
   "execution_count": null,
   "metadata": {},
   "outputs": [],
   "source": [
    "indices = material.get_region_indices(\"phase\")\n",
    "print(f\"keys: {indices.keys()}\")\n",
    "print(f\"values: {indices.values()}\")"
   ]
  },
  {
   "cell_type": "markdown",
   "metadata": {},
   "source": [
    "Regional fields can be deleted"
   ]
  },
  {
   "cell_type": "code",
   "execution_count": null,
   "metadata": {},
   "outputs": [],
   "source": [
    "material.remove_field(field_label=\"orientation\", in_regional_field=\"phase\").get_fields()"
   ]
  },
  {
   "cell_type": "markdown",
   "metadata": {},
   "source": [
    "Deleting any field that has corresponding regional fields will delete the regional fields as well."
   ]
  },
  {
   "cell_type": "code",
   "execution_count": null,
   "metadata": {},
   "outputs": [],
   "source": [
    "material.remove_field(field_label=\"phase\").get_fields()"
   ]
  },
  {
   "cell_type": "markdown",
   "metadata": {},
   "source": [
    "Materialite raises an error in 4 cases\n",
    "1. The `Material` does not have a field with the provided `region_label`"
   ]
  },
  {
   "cell_type": "code",
   "execution_count": null,
   "metadata": {},
   "outputs": [],
   "source": [
    "try:\n",
    "    bad_regional_field = {\"grain\": [1, 2], \"value\": [3, 4]}\n",
    "    material.create_regional_fields(\"grain\", bad_regional_field)\n",
    "except Exception as e:\n",
    "    print(f\"Error: {type(e).__name__}\")\n",
    "    print(f\"Message: {str(e)}\")"
   ]
  },
  {
   "cell_type": "markdown",
   "metadata": {},
   "source": [
    "2. The `Material` already has a field with the same label as a new field provided in the regional fields."
   ]
  },
  {
   "cell_type": "code",
   "execution_count": null,
   "metadata": {},
   "outputs": [],
   "source": [
    "try:\n",
    "    bad_regional_field = {\"phase\": [0, 1], \"x\": [3, 4]}\n",
    "    material.create_regional_fields(\"phase\", bad_regional_field)\n",
    "except Exception as e:\n",
    "    print(f\"Error: {type(e).__name__}\")\n",
    "    print(f\"Message: {str(e)}\")"
   ]
  },
  {
   "cell_type": "markdown",
   "metadata": {},
   "source": [
    "3. The regional field has duplicated values in the `region_label` field (in this case, `phase`)"
   ]
  },
  {
   "cell_type": "code",
   "execution_count": null,
   "metadata": {},
   "outputs": [],
   "source": [
    "try:\n",
    "    bad_regional_field = {\"phase\": [0, 1, 0], \"value\": [3, 4, 5]}\n",
    "\n",
    "\n",
    "    material.create_regional_fields(\"phase\", bad_regional_field)\n",
    "except Exception as e:\n",
    "    print(f\"Error: {type(e).__name__}\")\n",
    "    print(f\"Message: {str(e)}\")"
   ]
  },
  {
   "cell_type": "markdown",
   "metadata": {},
   "source": [
    "4. The `region_label` field (in this case, `phase`) in the `Material` has values that are not contained in the region field."
   ]
  },
  {
   "cell_type": "code",
   "execution_count": null,
   "metadata": {},
   "outputs": [],
   "source": [
    "try:\n",
    "    bad_region_field = {\"x\": [0, 2, 3, 4], \"value\": [3, 4, 5, 6]}\n",
    "\n",
    "\n",
    "    material.create_regional_fields(\"x\", bad_region_field)\n",
    "except Exception as e:\n",
    "    print(f\"Error: {type(e).__name__}\")\n",
    "    print(f\"Message: {str(e)}\")"
   ]
  },
  {
   "cell_type": "code",
   "execution_count": null,
   "metadata": {},
   "outputs": [],
   "source": [
    "try:\n",
    "    bad_region_field = {\"phase\": [0, 2], \"value\": [3, 4]}\n",
    "\n",
    "\n",
    "    material.create_regional_fields(\"phase\", bad_region_field)\n",
    "except Exception as e:\n",
    "    print(f\"Error: {type(e).__name__}\")\n",
    "    print(f\"Message: {str(e)}\")"
   ]
  },
  {
   "cell_type": "markdown",
   "metadata": {},
   "source": [
    "You will also get an error if two regional fields define the same field, but only on the next call to `get_fields()`"
   ]
  },
  {
   "cell_type": "code",
   "execution_count": null,
   "metadata": {},
   "outputs": [],
   "source": [
    "try:\n",
    "    x_regional_fields = {\"x\": [0, 1, 2, 3], \"youngs_modulus\": [10, 100, 1000, 10000]}\n",
    "    material.create_regional_fields(\"x\", regional_fields=x_regional_fields).get_fields()\n",
    "except Exception as e:\n",
    "    print(f\"Error: {type(e).__name__}\")\n",
    "    print(f\"Message: {str(e)}\")"
   ]
  }
 ],
 "metadata": {
  "kernelspec": {
   "display_name": "materialite",
   "language": "python",
   "name": "python3"
  },
  "language_info": {
   "codemirror_mode": {
    "name": "ipython",
    "version": 3
   },
   "file_extension": ".py",
   "mimetype": "text/x-python",
   "name": "python",
   "nbconvert_exporter": "python",
   "pygments_lexer": "ipython3",
   "version": "3.13.5"
  }
 },
 "nbformat": 4,
 "nbformat_minor": 2
}
