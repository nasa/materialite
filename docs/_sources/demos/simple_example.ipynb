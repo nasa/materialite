{
 "cells": [
  {
   "cell_type": "code",
   "execution_count": null,
   "id": "226ea166",
   "metadata": {
    "tags": [
     "remove-cell"
    ]
   },
   "outputs": [],
   "source": [
    "import pyvista as pv\n",
    "\n",
    "pv.set_jupyter_backend(\"static\")"
   ]
  },
  {
   "cell_type": "markdown",
   "id": "95b0ea9f",
   "metadata": {},
   "source": [
    "# Simple Example"
   ]
  },
  {
   "cell_type": "markdown",
   "id": "3be4d5ff",
   "metadata": {},
   "source": [
    "Run a basic process-structure-property simulation using `Materialite`."
   ]
  },
  {
   "cell_type": "markdown",
   "id": "43507505",
   "metadata": {},
   "source": [
    "Import the core `Material` object, some models, and other required objects for model inputs."
   ]
  },
  {
   "cell_type": "code",
   "execution_count": null,
   "id": "8f378265",
   "metadata": {},
   "outputs": [],
   "source": [
    "from materialite import Material, Order4SymmetricTensor\n",
    "from materialite.models import GrainCoarseningModel\n",
    "from materialite.models.small_strain_fft import SmallStrainFFT, Elastic, LoadSchedule"
   ]
  },
  {
   "cell_type": "markdown",
   "id": "dcf6967c",
   "metadata": {},
   "source": [
    "Create a default material (generates a 16 x 16 x 16 point grid)."
   ]
  },
  {
   "cell_type": "code",
   "execution_count": null,
   "id": "ae157645",
   "metadata": {},
   "outputs": [],
   "source": [
    "material = Material()"
   ]
  },
  {
   "cell_type": "markdown",
   "id": "4bc5891f",
   "metadata": {},
   "source": [
    "Create a model for grain coarsening (`GrainCoarseningModel` is a Potts Monte Carlo-based model)."
   ]
  },
  {
   "cell_type": "code",
   "execution_count": null,
   "id": "4f721f16",
   "metadata": {},
   "outputs": [],
   "source": [
    "grain_coarsening_model = GrainCoarseningModel(num_flip_attempts=10**5)"
   ]
  },
  {
   "cell_type": "markdown",
   "id": "175dddbc",
   "metadata": {},
   "source": [
    "Run the grain coarsening model, and assign random orientations to the grains in the `Material` that is returned by the model."
   ]
  },
  {
   "cell_type": "code",
   "execution_count": null,
   "id": "e3ce0afb",
   "metadata": {},
   "outputs": [],
   "source": [
    "material = grain_coarsening_model(material)\n",
    "material = material.assign_random_orientations(region_label=\"grain\")"
   ]
  },
  {
   "cell_type": "markdown",
   "id": "dd1d5db4",
   "metadata": {},
   "source": [
    "Plot the grain ID values."
   ]
  },
  {
   "cell_type": "code",
   "execution_count": null,
   "id": "bd13f502",
   "metadata": {},
   "outputs": [],
   "source": [
    "material.plot(\"grain\")"
   ]
  },
  {
   "cell_type": "markdown",
   "id": "5f244e5f",
   "metadata": {},
   "source": [
    "Create a model that will simulate uniaxial tension (`SmallStrainFFT` is an FFT-based full-field mechanical simulation)."
   ]
  },
  {
   "cell_type": "code",
   "execution_count": null,
   "id": "9b1598a4",
   "metadata": {},
   "outputs": [],
   "source": [
    "stiffness = Order4SymmetricTensor.from_cubic_constants(C11=250, C12=150, C44=120)\n",
    "constant_strain_rate = LoadSchedule.from_constant_uniaxial_strain_rate(\n",
    "    magnitude=0.001, direction=\"x\"\n",
    ")\n",
    "mechanical_model = SmallStrainFFT(\n",
    "    load_schedule=constant_strain_rate, constitutive_model=Elastic(stiffness=stiffness)\n",
    ")"
   ]
  },
  {
   "cell_type": "markdown",
   "id": "3f01e8d5",
   "metadata": {},
   "source": [
    "Run the model."
   ]
  },
  {
   "cell_type": "code",
   "execution_count": null,
   "id": "98efb9b0",
   "metadata": {},
   "outputs": [],
   "source": [
    "material = mechanical_model(material)"
   ]
  },
  {
   "cell_type": "markdown",
   "id": "1200f9fa",
   "metadata": {},
   "source": [
    "Plot the stress field in the loading direction."
   ]
  },
  {
   "cell_type": "code",
   "execution_count": null,
   "id": "05b0de10",
   "metadata": {},
   "outputs": [],
   "source": [
    "material.plot(\"stress\", component=0)"
   ]
  }
 ],
 "metadata": {
  "kernelspec": {
   "display_name": "materialite",
   "language": "python",
   "name": "python3"
  },
  "language_info": {
   "codemirror_mode": {
    "name": "ipython",
    "version": 3
   },
   "file_extension": ".py",
   "mimetype": "text/x-python",
   "name": "python",
   "nbconvert_exporter": "python",
   "pygments_lexer": "ipython3",
   "version": "3.13.5"
  }
 },
 "nbformat": 4,
 "nbformat_minor": 5
}
