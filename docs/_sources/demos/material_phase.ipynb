{
 "cells": [
  {
   "cell_type": "markdown",
   "id": "934787fb",
   "metadata": {},
   "source": [
    "# Material Phases"
   ]
  },
  {
   "cell_type": "code",
   "execution_count": null,
   "id": "0af57a34",
   "metadata": {
    "tags": [
     "remove-cell"
    ]
   },
   "outputs": [],
   "source": [
    "import pyvista as pv\n",
    "\n",
    "pv.set_jupyter_backend(\"static\")\n",
    "\n",
    "%load_ext autoreload\n",
    "%autoreload 2"
   ]
  },
  {
   "cell_type": "markdown",
   "id": "7d7d0043",
   "metadata": {},
   "source": [
    "Features with different field values can be added to a `Material` to represent pores, particles, etc. using the `insert_feature` method. Materialite provides several shapes that can be used for the feature:\n",
    "- `Sphere`, defined by a centroid and a radius.\n",
    "- `Superellipsoid`, defined by a centroid, a shape exponent, and major, minor, and intermediate radii.\n",
    "- `Box`, defined by a centroid and a minimum and maximum corner that bound the box.\n",
    "\n",
    "\n",
    "Start by creating a `Material` with spacing of 2 units in each direction and a constant value of 1 for the phase field at all points."
   ]
  },
  {
   "cell_type": "code",
   "execution_count": null,
   "id": "93abc4d3",
   "metadata": {},
   "outputs": [],
   "source": [
    "from materialite import Material\n",
    "\n",
    "material = Material(spacing=[2, 2, 2]).create_uniform_field(\"phase\", 1)"
   ]
  },
  {
   "cell_type": "markdown",
   "id": "ed0f97e0",
   "metadata": {},
   "source": [
    "Define a sphere with a radius of 10 units and centroid at a corner of the `Material`."
   ]
  },
  {
   "cell_type": "code",
   "execution_count": null,
   "id": "5f2261c6",
   "metadata": {},
   "outputs": [],
   "source": [
    "from materialite import Sphere\n",
    "\n",
    "sphere = Sphere(radius=10, centroid=[30, 30, 30])"
   ]
  },
  {
   "cell_type": "markdown",
   "id": "7d589c90",
   "metadata": {},
   "source": [
    "Insert the sphere and assign it a phase field value of 2. The `fields` argument of `insert_feature` is a dictionary where each key is the name of a field already in the `Material`, and each value will be assigned to all points inside the feature."
   ]
  },
  {
   "cell_type": "code",
   "execution_count": null,
   "id": "526a26c5",
   "metadata": {},
   "outputs": [],
   "source": [
    "material = material.insert_feature(sphere, fields={\"phase\": 2})"
   ]
  },
  {
   "cell_type": "markdown",
   "id": "e3a60cac",
   "metadata": {},
   "source": [
    "Plot the resulting phase field."
   ]
  },
  {
   "cell_type": "code",
   "execution_count": null,
   "id": "c39516ee",
   "metadata": {},
   "outputs": [],
   "source": [
    "material.plot(\"phase\")"
   ]
  },
  {
   "cell_type": "markdown",
   "id": "2c96835b",
   "metadata": {},
   "source": [
    "An error occurs if any fields do not already exist in the `Material`."
   ]
  },
  {
   "cell_type": "code",
   "execution_count": null,
   "id": "0317b169",
   "metadata": {
    "tags": [
     "raises-exception"
    ]
   },
   "outputs": [],
   "source": [
    "try:\n",
    "    _ = material.insert_feature(sphere, fields={\"phase\": 2, \"bad_field\": \"oops\"})\n",
    "except Exception as e:\n",
    "    print(f\"Error occurred: {type(e).__name__}\")\n",
    "    print(f\"Message: {str(e)}\")"
   ]
  },
  {
   "cell_type": "markdown",
   "id": "8c58aa0d",
   "metadata": {},
   "source": [
    "If the feature is in the interior of the `Material`, we can still visualize it by cropping the `Material` before calling `plot`.\n",
    "\n",
    "Here, we look at half of the material along the $x$ axis using the `crop_by_range` method. The inputs for this method are bounds of the box-shaped region that we will keep in each coordinate direction in physical units (i.e., between `material.origin` and `material.sizes` in each direction)."
   ]
  },
  {
   "cell_type": "code",
   "execution_count": null,
   "id": "ca829200",
   "metadata": {},
   "outputs": [],
   "source": [
    "import numpy as np\n",
    "\n",
    "sphere = Sphere(radius=10, centroid=[15, 15, 15])\n",
    "material = (\n",
    "    Material(spacing=[2, 2, 2])\n",
    "    .create_uniform_field(\"phase\", 1)\n",
    "    .insert_feature(sphere, fields={\"phase\": 2})\n",
    ")\n",
    "material.crop_by_range(x_range=[-np.inf, material.sizes[0] / 2]).plot(\"phase\")"
   ]
  },
  {
   "cell_type": "markdown",
   "id": "5d2ca630",
   "metadata": {},
   "source": [
    "We can also use the `crop_by_id_range` method. This is similar to `crop_by_range`, but the input ranges are provided in terms of point IDs (i.e., between 0 and `material.dimensions` - 1 in each direction)"
   ]
  },
  {
   "cell_type": "code",
   "execution_count": null,
   "id": "ae855734",
   "metadata": {},
   "outputs": [],
   "source": [
    "material.crop_by_id_range(x_id_range=[-np.inf, 8]).plot(\"phase\")"
   ]
  },
  {
   "cell_type": "markdown",
   "id": "f398ab49",
   "metadata": {},
   "source": [
    "Both crop methods are inclusive of the value on either end of the range."
   ]
  }
 ],
 "metadata": {
  "kernelspec": {
   "display_name": "materialite",
   "language": "python",
   "name": "python3"
  },
  "language_info": {
   "codemirror_mode": {
    "name": "ipython",
    "version": 3
   },
   "file_extension": ".py",
   "mimetype": "text/x-python",
   "name": "python",
   "nbconvert_exporter": "python",
   "pygments_lexer": "ipython3",
   "version": "3.13.5"
  }
 },
 "nbformat": 4,
 "nbformat_minor": 5
}
