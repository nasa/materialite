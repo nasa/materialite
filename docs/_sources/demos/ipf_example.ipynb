{
 "cells": [
  {
   "cell_type": "markdown",
   "id": "5644fd5e",
   "metadata": {},
   "source": [
    "# IPF Coloring"
   ]
  },
  {
   "cell_type": "code",
   "execution_count": null,
   "id": "1ddcdef3",
   "metadata": {
    "tags": [
     "remove-cell"
    ]
   },
   "outputs": [],
   "source": [
    "import pyvista as pv\n",
    "\n",
    "pv.set_jupyter_backend(\"static\")\n",
    "\n",
    "%load_ext autoreload\n",
    "%autoreload 2"
   ]
  },
  {
   "cell_type": "code",
   "execution_count": null,
   "id": "eb710743-e8b1-47c4-ad0f-4e47059ae38d",
   "metadata": {},
   "outputs": [],
   "source": [
    "import numpy as np\n",
    "from materialite import (\n",
    "    Material,\n",
    "    Orientation,\n",
    "    Vector,\n",
    "    get_ipf_colors,\n",
    "    import_dream3d,\n",
    "    add_ipf_colors_field,\n",
    ")\n",
    "from PIL import Image\n",
    "import pyvista as pv\n",
    "import matplotlib.pyplot as plt"
   ]
  },
  {
   "cell_type": "markdown",
   "id": "eca022cb",
   "metadata": {},
   "source": [
    "Display IPF map legend"
   ]
  },
  {
   "cell_type": "code",
   "execution_count": null,
   "id": "7870e3ed",
   "metadata": {},
   "outputs": [],
   "source": [
    "ipf_legend = np.asarray(Image.open(\"ipf_example/ipf_map_legend_cubic.png\"))\n",
    "fig, ax = plt.subplots()\n",
    "ax.imshow(ipf_legend)\n",
    "ax.axis(\"off\")"
   ]
  },
  {
   "cell_type": "markdown",
   "id": "54c83cc0",
   "metadata": {},
   "source": [
    "Simple example with three grains that have local $[100]$, $[110]$, and $[111]$ directions, respectively, aligned with the specimen $z$ direction"
   ]
  },
  {
   "cell_type": "code",
   "execution_count": null,
   "id": "6605e20a-f451-4e68-84a6-f338365a8445",
   "metadata": {},
   "outputs": [],
   "source": [
    "euler_angles = [\n",
    "    [0, 0, 0],\n",
    "    [0, -np.pi / 4, 0],\n",
    "    [0, np.arccos(1 / np.sqrt(3)), np.pi / 4],\n",
    "]\n",
    "\n",
    "grain_orientations = Orientation.from_euler_angles(euler_angles)\n",
    "regional_field = {\"grain\": [0, 1, 2], \"orientation\": grain_orientations}\n",
    "material = (\n",
    "    Material([4, 4, 4])\n",
    "    .create_voronoi(3, \"grain\", rng=np.random.default_rng(12345))\n",
    "    .create_regional_fields(region_label=\"grain\", regional_fields=regional_field)\n",
    "    .run(add_ipf_colors_field)\n",
    ")"
   ]
  },
  {
   "cell_type": "code",
   "execution_count": null,
   "id": "a81777c2-e127-4957-bc5a-52a2b2ef9fab",
   "metadata": {},
   "outputs": [],
   "source": [
    "material.plot(\"ipf_color\", kind=\"ipf_map\")"
   ]
  },
  {
   "cell_type": "markdown",
   "id": "c3b6d780",
   "metadata": {},
   "source": [
    "Example with random orientations for a Voronoi tesselation"
   ]
  },
  {
   "cell_type": "code",
   "execution_count": null,
   "id": "c5ac5441-de6a-4e18-aba8-0292cf18269d",
   "metadata": {},
   "outputs": [],
   "source": [
    "material = (\n",
    "    Material([128, 128, 128])\n",
    "    .create_voronoi(500, \"grain\")\n",
    "    .assign_random_orientations(\"grain\")\n",
    "    .run(add_ipf_colors_field)\n",
    ")"
   ]
  },
  {
   "cell_type": "code",
   "execution_count": null,
   "id": "0b0bda95-ed70-4121-b454-fd0b7b832807",
   "metadata": {},
   "outputs": [],
   "source": [
    "material.plot(\"ipf_color\", kind=\"ipf_map\")"
   ]
  },
  {
   "cell_type": "markdown",
   "id": "476146f2",
   "metadata": {},
   "source": [
    "Comparison with DREAM.3D-generated IPF map"
   ]
  },
  {
   "cell_type": "code",
   "execution_count": null,
   "id": "9236cc90-f95c-41e0-a55b-4ebda8c9edf0",
   "metadata": {},
   "outputs": [],
   "source": [
    "data_container = \"DataContainers/SyntheticVolumeDataContainer\"\n",
    "material = import_dream3d(\n",
    "    file=\"ipf_example/example_for_ipf_map.dream3d\",\n",
    "    simpl_geometry_path=f\"{data_container}/_SIMPL_GEOMETRY\",\n",
    "    region_id_path=f\"{data_container}/EBSD Scan Data/FeatureIds\",\n",
    "    region_field_paths=[\n",
    "        f\"{data_container}/Grain Data/EulerAngles\",\n",
    "    ],\n",
    "    field_paths=[f\"{data_container}/EBSD Scan Data/IPFColor\"],\n",
    ")\n",
    "ipf_colors_dream3d = (\n",
    "    material.extract([\"i_p_f_color_1\", \"i_p_f_color_2\", \"i_p_f_color_3\"]) / 255.0\n",
    ")\n",
    "eulers = material.extract([\"euler_angles_1\", \"euler_angles_2\", \"euler_angles_3\"])\n",
    "orientations = Orientation.from_euler_angles(eulers)\n",
    "\n",
    "material = material.create_fields(\n",
    "    {\n",
    "        \"ipf_color_d3d\": ipf_colors_dream3d.tolist(),\n",
    "        \"orientation\": orientations,\n",
    "        \"grain\": list(material.extract(\"feature_ids\")),\n",
    "    }\n",
    ").run(add_ipf_colors_field)"
   ]
  },
  {
   "cell_type": "markdown",
   "id": "f58d339b",
   "metadata": {},
   "source": [
    "Materialite IPF map"
   ]
  },
  {
   "cell_type": "code",
   "execution_count": 62,
   "id": "31dadc9f-6cfc-43ce-960d-94efaa2e8fd7",
   "metadata": {},
   "outputs": [],
   "source": [
    "material.plot(\"ipf_color\", kind=\"ipf_map\")"
   ]
  },
  {
   "cell_type": "markdown",
   "id": "e9c23ac0",
   "metadata": {},
   "source": [
    "DREAM.3D IPF map"
   ]
  },
  {
   "cell_type": "code",
   "execution_count": 63,
   "id": "b0f6351d-336a-4cfe-951f-6f4baeb6fa02",
   "metadata": {},
   "outputs": [],
   "source": [
    "material.plot(\"ipf_color_d3d\", kind=\"ipf_map\")"
   ]
  },
  {
   "cell_type": "markdown",
   "id": "f610a0cb",
   "metadata": {},
   "source": [
    "Compare with same grain morphology and Euler angles, but with an HCP lattice"
   ]
  },
  {
   "cell_type": "code",
   "execution_count": null,
   "id": "d9da4339",
   "metadata": {},
   "outputs": [],
   "source": [
    "ipf_legend = np.asarray(Image.open(\"ipf_example/ipf_map_legend_hcp.png\"))\n",
    "fig, ax = plt.subplots()\n",
    "ax.imshow(ipf_legend)\n",
    "ax.axis(\"off\")"
   ]
  },
  {
   "cell_type": "code",
   "execution_count": null,
   "id": "ccfefd6a",
   "metadata": {},
   "outputs": [],
   "source": [
    "data_container = \"DataContainers/SyntheticVolumeDataContainer\"\n",
    "material = import_dream3d(\n",
    "    file=\"ipf_example/example_for_ipf_map_hcp.dream3d\",\n",
    "    simpl_geometry_path=f\"{data_container}/_SIMPL_GEOMETRY\",\n",
    "    region_id_path=f\"{data_container}/EBSD Scan Data/FeatureIds\",\n",
    "    region_field_paths=[\n",
    "        f\"{data_container}/Grain Data/EulerAngles\",\n",
    "    ],\n",
    "    field_paths=[f\"{data_container}/EBSD Scan Data/IPFColor\"],\n",
    ")\n",
    "ipf_colors_dream3d = (\n",
    "    material.extract([\"i_p_f_color_1\", \"i_p_f_color_2\", \"i_p_f_color_3\"]) / 255.0\n",
    ")\n",
    "eulers = material.extract([\"euler_angles_1\", \"euler_angles_2\", \"euler_angles_3\"])\n",
    "orientations = Orientation.from_euler_angles(eulers)\n",
    "\n",
    "material = material.create_fields(\n",
    "    {\n",
    "        \"ipf_color_d3d\": ipf_colors_dream3d.tolist(),\n",
    "        \"orientation\": orientations,\n",
    "        \"grain\": list(material.extract(\"feature_ids\")),\n",
    "    }\n",
    ").run(add_ipf_colors_field, unit_cell=\"hcp\")"
   ]
  },
  {
   "cell_type": "markdown",
   "id": "a242f3a7",
   "metadata": {},
   "source": [
    "Materialite IPF map"
   ]
  },
  {
   "cell_type": "code",
   "execution_count": null,
   "id": "25fd648b",
   "metadata": {},
   "outputs": [],
   "source": [
    "material.plot(\"ipf_color\", kind=\"ipf_map\")"
   ]
  },
  {
   "cell_type": "markdown",
   "id": "cd254717",
   "metadata": {},
   "source": [
    "DREAM.3D IPF map"
   ]
  },
  {
   "cell_type": "code",
   "execution_count": null,
   "id": "1eec4669",
   "metadata": {},
   "outputs": [],
   "source": [
    "material.plot(\"ipf_color_d3d\", kind=\"ipf_map\")"
   ]
  }
 ],
 "metadata": {
  "kernelspec": {
   "display_name": "materialite",
   "language": "python",
   "name": "python3"
  },
  "language_info": {
   "codemirror_mode": {
    "name": "ipython",
    "version": 3
   },
   "file_extension": ".py",
   "mimetype": "text/x-python",
   "name": "python",
   "nbconvert_exporter": "python",
   "pygments_lexer": "ipython3",
   "version": "3.13.5"
  }
 },
 "nbformat": 4,
 "nbformat_minor": 5
}
