{
 "cells": [
  {
   "cell_type": "markdown",
   "id": "1727d2f1",
   "metadata": {},
   "source": [
    "# Tensors"
   ]
  },
  {
   "cell_type": "code",
   "execution_count": null,
   "id": "05cbb030",
   "metadata": {
    "tags": [
     "remove-cell"
    ]
   },
   "outputs": [],
   "source": [
    "import pyvista as pv\n",
    "\n",
    "pv.set_jupyter_backend(\"static\")\n",
    "\n",
    "%load_ext autoreload\n",
    "%autoreload 2"
   ]
  },
  {
   "cell_type": "code",
   "execution_count": null,
   "id": "732ff5ab-562c-473e-bf2c-862048598e30",
   "metadata": {},
   "outputs": [],
   "source": [
    "import numpy as np\n",
    "from materialite import (\n",
    "    Material,\n",
    "    Orientation,\n",
    "    Scalar,\n",
    "    Order2Tensor,\n",
    "    Order2SymmetricTensor,\n",
    "    Order4SymmetricTensor,\n",
    "    Vector,\n",
    "    SlipSystem,\n",
    ")"
   ]
  },
  {
   "cell_type": "markdown",
   "id": "6d0af9f9",
   "metadata": {},
   "source": [
    "`Tensor`s in Materialite are intended to simplify tensor operations, which often require careful tracking of array dimensions and special handling depending on whether the array represents a single tensor or a group of tensors (e.g., at all the points in a material). Specific classes are:\n",
    "* `Scalar`\n",
    "* `Vector`\n",
    "* `Order2Tensor`: non-symmetric second-order tensors\n",
    "* `Order2SymmetricTensor`: symmetric second-order tensors. \n",
    "* `Order4SymmetricTensor`: fourth-order tensors with major and minor symmetries (e.g., stiffness tensors)\n",
    "* `Orientation`: represents basis transformations\n",
    "\n",
    "This demo walks through tensor operations, including individual tensors and groups of tensors, which are all handled by the above classes."
   ]
  },
  {
   "cell_type": "markdown",
   "id": "41315626",
   "metadata": {},
   "source": [
    "Create a displacement gradient for simple shear"
   ]
  },
  {
   "cell_type": "code",
   "execution_count": null,
   "id": "03ebf679-efb5-4dd9-9e65-a43b0749b399",
   "metadata": {},
   "outputs": [],
   "source": [
    "displacement_gradient_array = np.array([[0, 1.0, 0], [0, 0, 0], [0, 0, 0]])\n",
    "displacement_gradient = Order2Tensor(displacement_gradient_array)\n",
    "displacement_gradient"
   ]
  },
  {
   "cell_type": "markdown",
   "id": "b3f7e595",
   "metadata": {},
   "source": [
    "Recover the numpy array by asking for the tensor components"
   ]
  },
  {
   "cell_type": "code",
   "execution_count": null,
   "id": "3128d4b3",
   "metadata": {},
   "outputs": [],
   "source": [
    "displacement_gradient.components"
   ]
  },
  {
   "cell_type": "markdown",
   "id": "ec844ec0",
   "metadata": {},
   "source": [
    "The infinitesimal strain tensor is the symmetric part of the displacement gradient"
   ]
  },
  {
   "cell_type": "code",
   "execution_count": null,
   "id": "77601374-9981-4e58-852f-f9cec94721dc",
   "metadata": {},
   "outputs": [],
   "source": [
    "strain = displacement_gradient.sym\n",
    "strain"
   ]
  },
  {
   "cell_type": "markdown",
   "id": "186a3ff3",
   "metadata": {},
   "source": [
    "The default representation of an `Order2SymmetricTensor` is the Mandel components. We can extract the Cartesian components instead if we want."
   ]
  },
  {
   "cell_type": "code",
   "execution_count": null,
   "id": "978e3e07-7336-41ba-a21b-b03f42ec95af",
   "metadata": {},
   "outputs": [],
   "source": [
    "strain.cartesian"
   ]
  },
  {
   "cell_type": "markdown",
   "id": "30a96b8c",
   "metadata": {},
   "source": [
    "...or the Voigt components. Note that we need to specify `strain_voigt` to get the correct representation (i.e., shear components multiplied by two)"
   ]
  },
  {
   "cell_type": "code",
   "execution_count": null,
   "id": "5e3c4b6e",
   "metadata": {},
   "outputs": [],
   "source": [
    "strain.strain_voigt"
   ]
  },
  {
   "cell_type": "markdown",
   "id": "367bfb0f",
   "metadata": {},
   "source": [
    "`stress_voigt` returns the stress Voigt representation (shear components not multiplied by two)"
   ]
  },
  {
   "cell_type": "code",
   "execution_count": null,
   "id": "b695e6a9",
   "metadata": {},
   "outputs": [],
   "source": [
    "strain.stress_voigt"
   ]
  },
  {
   "cell_type": "markdown",
   "id": "48250e20",
   "metadata": {},
   "source": [
    "We can construct an `Order2SymmetricTensor` from these different component representations too."
   ]
  },
  {
   "cell_type": "code",
   "execution_count": null,
   "id": "38c70c3f",
   "metadata": {},
   "outputs": [],
   "source": [
    "strain2 = Order2SymmetricTensor(strain.components)\n",
    "strain3 = Order2SymmetricTensor.from_mandel(strain.components)\n",
    "strain4 = Order2SymmetricTensor.from_strain_voigt(strain.strain_voigt)\n",
    "strain5 = Order2SymmetricTensor.from_stress_voigt(strain.stress_voigt)\n",
    "strain6 = Order2SymmetricTensor.from_cartesian(strain.cartesian)\n",
    "print(np.allclose(strain.components, strain2.components))\n",
    "print(np.allclose(strain.components, strain3.components))\n",
    "print(np.allclose(strain.components, strain4.components))\n",
    "print(np.allclose(strain.components, strain5.components))\n",
    "print(np.allclose(strain.components, strain6.components))"
   ]
  },
  {
   "cell_type": "markdown",
   "id": "586eac1a",
   "metadata": {},
   "source": [
    "Note that `from_cartesian` raises an error if the provided numpy array is not symmetric"
   ]
  },
  {
   "cell_type": "code",
   "execution_count": null,
   "id": "4960ffca-cef7-42ce-aa63-8dee6126a645",
   "metadata": {},
   "outputs": [],
   "source": [
    "try:\n",
    "    _ = Order2SymmetricTensor.from_cartesian(displacement_gradient_array)\n",
    "except Exception as e:\n",
    "    print(f\"Error: {type(e).__name__}\")\n",
    "    print(f\"Message: {str(e)}\")"
   ]
  },
  {
   "cell_type": "markdown",
   "id": "eea17be4",
   "metadata": {},
   "source": [
    "For solid mechanics problems, we need stiffness tensors too. These are `Order4SymmetricTensor`s in Materialite. Here, we'll create a stiffness tensor for a material with cubic symmetry."
   ]
  },
  {
   "cell_type": "code",
   "execution_count": null,
   "id": "39a63784-ef00-4329-adb1-f19a2ddc235f",
   "metadata": {},
   "outputs": [],
   "source": [
    "stiffness_tensor = Order4SymmetricTensor.from_cubic_constants(\n",
    "    C11=250000, C12=140000, C44=100000\n",
    ")\n",
    "stiffness_tensor"
   ]
  },
  {
   "cell_type": "markdown",
   "id": "a923ae13",
   "metadata": {},
   "source": [
    "Again, the default representation is the Mandel components. We can also ask for the Voigt components."
   ]
  },
  {
   "cell_type": "code",
   "execution_count": null,
   "id": "4e8bd58e-1b1c-47ce-8fef-4ea7ecdd55f6",
   "metadata": {},
   "outputs": [],
   "source": [
    "stiffness_tensor.voigt"
   ]
  },
  {
   "cell_type": "markdown",
   "id": "287a763e",
   "metadata": {},
   "source": [
    "We can also create stiffness tensors for other materials:\n",
    "* Isotropic: `Order4SymmetricTensor.from_isotropic_constants(modulus, shear_modulus)`\n",
    "* Transversely isotropic (e.g., hexagonal close-packed materials): `Order4SymmetricTensor.from_transverse_isotropic_constants(C11, C12, C13, C33, C44)`\n",
    "* Any stiffness tensor where you have the Voigt components in a Numpy array: `Order4SymmetricTensor.from_voigt(voigt_stiffness_matrix)`"
   ]
  },
  {
   "cell_type": "markdown",
   "id": "f26d5b04",
   "metadata": {},
   "source": [
    "Now let's do some tensor operations. First, get the stress from the stiffness tensor and the strain: $\\mathbf{\\sigma}$ = $\\mathbb{C} \\mathbf{\\varepsilon}$ or, in index notation, $\\sigma_{ij} = C_{ijkl} \\varepsilon_{kl}$. Tensor applications use the `@` operator."
   ]
  },
  {
   "cell_type": "code",
   "execution_count": null,
   "id": "146f8153",
   "metadata": {},
   "outputs": [],
   "source": [
    "stress = stiffness_tensor @ strain\n",
    "stress"
   ]
  },
  {
   "cell_type": "markdown",
   "id": "bbd77e1f",
   "metadata": {},
   "source": [
    "We can also do inner products like $\\mathbf{\\sigma} : \\mathbf{\\varepsilon}$ or, in index notation, $\\sigma_{ij} \\varepsilon_{ij}$, using the `*` operator. This returns a `Scalar`."
   ]
  },
  {
   "cell_type": "code",
   "execution_count": null,
   "id": "7e13cf02",
   "metadata": {},
   "outputs": [],
   "source": [
    "stress * strain"
   ]
  },
  {
   "cell_type": "markdown",
   "id": "b6673cda",
   "metadata": {},
   "source": [
    "Similarly, we can apply `Order2SymmetricTensor`s or `Order2Tensor`s to `Vector`s. Here, determine the traction vector on a particular surface:"
   ]
  },
  {
   "cell_type": "code",
   "execution_count": null,
   "id": "947ca5c7",
   "metadata": {},
   "outputs": [],
   "source": [
    "surface_normal = Vector([1.0, 1.0, 1.0]).unit\n",
    "traction = stress @ surface_normal\n",
    "traction"
   ]
  },
  {
   "cell_type": "markdown",
   "id": "154fdf84",
   "metadata": {},
   "source": [
    "Note that `.unit` converted the `surface_normal` vector to a unit vector:"
   ]
  },
  {
   "cell_type": "code",
   "execution_count": null,
   "id": "04757328",
   "metadata": {},
   "outputs": [],
   "source": [
    "surface_normal"
   ]
  },
  {
   "cell_type": "markdown",
   "id": "2e69e85c",
   "metadata": {},
   "source": [
    "`Tensor`s are most useful for doing tensor operations when you have multidimensional data. In Materialite, the dimensions are the points of the material and the slip systems that are available at each point. First, set up tensors with a points dimension."
   ]
  },
  {
   "cell_type": "code",
   "execution_count": null,
   "id": "3da66999-05ed-42bf-921c-0bd6c64e620c",
   "metadata": {},
   "outputs": [],
   "source": [
    "displacement_gradients_array = (\n",
    "    np.array(\n",
    "        [displacement_gradient_array, np.array([[-0.3, 0, 0], [0, -0.3, 0], [0, 0, 1]])]\n",
    "    )\n",
    "    * 0.001\n",
    ")\n",
    "displacement_gradients = Order2Tensor(displacement_gradients_array)\n",
    "displacement_gradients"
   ]
  },
  {
   "cell_type": "markdown",
   "id": "79643f17",
   "metadata": {},
   "source": [
    "Operations we looked at previously remain the same."
   ]
  },
  {
   "cell_type": "code",
   "execution_count": null,
   "id": "98ff4687-3f5c-47f5-9816-51bd9e870549",
   "metadata": {},
   "outputs": [],
   "source": [
    "strains = displacement_gradients.sym\n",
    "strains"
   ]
  },
  {
   "cell_type": "code",
   "execution_count": null,
   "id": "e2de23a5-06b2-4d96-924b-e13af80ee726",
   "metadata": {},
   "outputs": [],
   "source": [
    "stresses = stiffness_tensor @ strains\n",
    "stresses"
   ]
  },
  {
   "cell_type": "markdown",
   "id": "1f7ae671",
   "metadata": {},
   "source": [
    "Note that no special broadcasting operations were needed to make the `stiffness_tensor` (which has no points dimension) work correctly with `strains` (which has a points dimension)."
   ]
  },
  {
   "cell_type": "code",
   "execution_count": null,
   "id": "219de78a-7fde-4829-949e-6f1a3157fa17",
   "metadata": {},
   "outputs": [],
   "source": [
    "stresses * strains"
   ]
  },
  {
   "cell_type": "markdown",
   "id": "9c7705bc",
   "metadata": {},
   "source": [
    "We can do other useful operations like extracting the deviatoric part of a tensor or taking the norm."
   ]
  },
  {
   "cell_type": "code",
   "execution_count": null,
   "id": "63acbabb-ae9f-4f40-8127-43c88912b893",
   "metadata": {},
   "outputs": [],
   "source": [
    "stresses.dev"
   ]
  },
  {
   "cell_type": "code",
   "execution_count": null,
   "id": "0e63067a",
   "metadata": {},
   "outputs": [],
   "source": [
    "stresses.dev.norm  # note that this returns a Scalar with a points dimension"
   ]
  },
  {
   "cell_type": "markdown",
   "id": "a5e2819c",
   "metadata": {},
   "source": [
    "Here is the von Mises stress"
   ]
  },
  {
   "cell_type": "code",
   "execution_count": null,
   "id": "8b81bfee",
   "metadata": {},
   "outputs": [],
   "source": [
    "np.sqrt(3 / 2) * stresses.dev.norm"
   ]
  },
  {
   "cell_type": "markdown",
   "id": "24aed5c4",
   "metadata": {},
   "source": [
    "We can also take the mean over all the points. Note that `mean()` requires parenthesis."
   ]
  },
  {
   "cell_type": "code",
   "execution_count": null,
   "id": "9574336c",
   "metadata": {},
   "outputs": [],
   "source": [
    "stresses.mean()"
   ]
  },
  {
   "cell_type": "markdown",
   "id": "d2249a5f",
   "metadata": {},
   "source": [
    "For crystal plasticity operations, we will also need to work with a slip systems dimension. This typically comes from the Schmid tensor. In Materialite, the `SlipSystem` class can automatically create the Schmid tensor for common slip system families."
   ]
  },
  {
   "cell_type": "code",
   "execution_count": null,
   "id": "593a6543-4160-407b-a5af-6719e6bace88",
   "metadata": {},
   "outputs": [],
   "source": [
    "slip_systems = SlipSystem.octahedral()\n",
    "schmid_tensor = slip_systems.schmid_tensor.sym\n",
    "schmid_tensor"
   ]
  },
  {
   "cell_type": "markdown",
   "id": "3138c595",
   "metadata": {},
   "source": [
    "Note that the Schmid tensor has a \"slip systems\" dimension.\n",
    "\n",
    "Now, suppose our two points from earlier are in a crystal with octahedral slip systems. We can easily compute the resolved shear stress on each slip system at each point. Note that we have two points and 12 slip systems."
   ]
  },
  {
   "cell_type": "code",
   "execution_count": null,
   "id": "8ad963d0-3c68-4d22-86ea-e8ac5c92b57b",
   "metadata": {},
   "outputs": [],
   "source": [
    "resolved_shear_stresses = schmid_tensor * stresses\n",
    "resolved_shear_stresses"
   ]
  },
  {
   "cell_type": "markdown",
   "id": "ce4ea391",
   "metadata": {},
   "source": [
    "Now let's set up a viscoplastic constitutive law and compute the slip rates on each slip system from $\\dot{\\gamma}_s = \\dot{\\gamma}_0 \\left(\\frac{\\tau_s}{g_s} \\right)^{m-1} \\left(\\frac{\\tau_s}{g_s} \\right)$. Numbers that stay constant can just be regular numbers, but we'll make the slip resistance a `Scalar` so that it can be updated. Note that all of the slip rates on every slip system at every point are computed at once."
   ]
  },
  {
   "cell_type": "code",
   "execution_count": null,
   "id": "95a05352-50d4-4d00-8228-11e3858509cb",
   "metadata": {},
   "outputs": [],
   "source": [
    "hardening_rate = 10.0\n",
    "reference_slip_rate = 1.0\n",
    "slip_resistance = Scalar(100.0)\n",
    "rate_exponent = 10.0\n",
    "plastic_slip_rates = (\n",
    "    reference_slip_rate\n",
    "    * (resolved_shear_stresses / slip_resistance).abs ** (rate_exponent - 1)\n",
    "    * (resolved_shear_stresses / slip_resistance)\n",
    ")\n",
    "plastic_slip_rates"
   ]
  },
  {
   "cell_type": "markdown",
   "id": "794be4a8",
   "metadata": {},
   "source": [
    "Now we can compute the plastic strain rates at each point: $\\dot{\\mathbf{\\varepsilon}}_p = \\sum_s \\mathbf{M}_s \\dot{\\gamma}_s$. Recall that the Schmid tensor is an `Order2SymmetricTensor` with a \"points\" dimension and the plastic slip rates are a `Scalar` with a \"points\" and a \"slip systems\" dimension. Therefore, the product will be an `Order2SymmetricTensor` with \"points\" and \"slip systems\" dimensions."
   ]
  },
  {
   "cell_type": "code",
   "execution_count": null,
   "id": "53eb213e-71ca-45ad-9bea-4d126694b5d3",
   "metadata": {},
   "outputs": [],
   "source": [
    "plastic_strain_rates = (schmid_tensor * plastic_slip_rates).sum()\n",
    "plastic_strain_rates"
   ]
  },
  {
   "cell_type": "markdown",
   "id": "76adf2ab",
   "metadata": {},
   "source": [
    "Note that the `sum` method automatically sums over the \"slip systems\" dimension if it exists. This behavior can also be specified explicitly."
   ]
  },
  {
   "cell_type": "code",
   "execution_count": null,
   "id": "e2f4a62a",
   "metadata": {},
   "outputs": [],
   "source": [
    "(schmid_tensor * plastic_slip_rates).sum(\"s\")"
   ]
  },
  {
   "cell_type": "markdown",
   "id": "1f855c92",
   "metadata": {},
   "source": [
    "Finally, update the slip resistances using a simple linear hardening law with the accumulated slip at each point: $g_s = g_{s,\\text{old}} + H \\Delta t \\sum_s |\\dot{\\gamma}_s|$"
   ]
  },
  {
   "cell_type": "code",
   "execution_count": null,
   "id": "23bfd6fb-841e-4f69-9f4a-aa6fca114832",
   "metadata": {},
   "outputs": [],
   "source": [
    "delta_t = 0.001\n",
    "new_slip_resistances = (\n",
    "    slip_resistance + hardening_rate * plastic_slip_rates.abs.sum() * delta_t\n",
    ")\n",
    "new_slip_resistances"
   ]
  },
  {
   "cell_type": "markdown",
   "id": "b09c40f2",
   "metadata": {},
   "source": [
    "Note that `new_slip_resistances` has a points dimension since the accumulated slip was calculated at each point. In other words, at each point, we have computed the new CRSS across all 12 slip systems. `new_slip_resistances` would also have a slip systems dimension if the hardening law computed different CRSS increments for each slip system. We also used the `abs` property of a `Scalar` to take the absolute value of the slip rates."
   ]
  },
  {
   "cell_type": "markdown",
   "id": "34a37011",
   "metadata": {},
   "source": [
    "Generally, points will belong to different crystals that may have different orientations. All `Tensor`s (except `Scalar`s) are equipped with `to_crystal_frame()` and `to_specimen_frame()` methods to handle coordinate transformations. The only argument to the method is an `Orientation` object, which can contain a single orientation or a group of orientations just like `Tensor`s. `Orientation`s represent a basis transformation between a specimen reference frame and a crystal reference frame. There is more detail on creating and using `Orientation`s in [Crystallography](crystallography)."
   ]
  },
  {
   "cell_type": "code",
   "execution_count": null,
   "id": "0c09a906",
   "metadata": {},
   "outputs": [],
   "source": [
    "rng = np.random.default_rng(12345)\n",
    "orientations = Orientation.random(num=2, rng=rng)\n",
    "specimen_frame_stiffnesses = stiffness_tensor.to_specimen_frame(orientations)\n",
    "specimen_frame_stiffnesses"
   ]
  },
  {
   "cell_type": "markdown",
   "id": "965fc6ba",
   "metadata": {},
   "source": [
    "Now, each point has a different stiffness tensor in the specimen frame due to the different orientations. We also need to transform the Schmid tensor to the specimen frame."
   ]
  },
  {
   "cell_type": "code",
   "execution_count": null,
   "id": "36d1addb",
   "metadata": {},
   "outputs": [],
   "source": [
    "specimen_frame_schmid_tensors = schmid_tensor.to_specimen_frame(orientations)\n",
    "specimen_frame_schmid_tensors"
   ]
  },
  {
   "cell_type": "markdown",
   "id": "f66cae63",
   "metadata": {},
   "source": [
    "The constitutive law calculation can now be carried out exactly as before."
   ]
  },
  {
   "cell_type": "markdown",
   "id": "f88af3a8",
   "metadata": {},
   "source": [
    "Other things..."
   ]
  },
  {
   "cell_type": "markdown",
   "id": "ecb8cc3f",
   "metadata": {},
   "source": [
    "The user can specify whether they want a `Tensor` to have a \"points\" or \"slip systems\" dimension. Materialite assumes there is a \"points\" dimension unless the user specifies otherwise."
   ]
  },
  {
   "cell_type": "code",
   "execution_count": null,
   "id": "6c6b0aba",
   "metadata": {},
   "outputs": [],
   "source": [
    "print(\"tensor with points dimension:\")\n",
    "print(Order2Tensor(displacement_gradients_array))\n",
    "print(\"tensor with slip systems dimension:\")\n",
    "print(Order2Tensor(displacement_gradients_array, \"s\"))"
   ]
  },
  {
   "cell_type": "markdown",
   "id": "6c8020da",
   "metadata": {},
   "source": [
    "If the user passes a single tensor to the constructor but asks for a \"points\" or \"slip systems\" dimension, Materialite raises an error."
   ]
  },
  {
   "cell_type": "code",
   "execution_count": null,
   "id": "80b66d3d",
   "metadata": {},
   "outputs": [],
   "source": [
    "try:\n",
    "    _ = Order2Tensor(displacement_gradient_array, \"p\")\n",
    "except Exception as e:\n",
    "    print(f\"Error: {type(e).__name__}\")\n",
    "    print(f\"Message: {str(e)}\")"
   ]
  },
  {
   "cell_type": "markdown",
   "id": "2bb93e5b",
   "metadata": {},
   "source": [
    "`mean()` and `sum()` (for all `Tensor`s) and `max()` (for `Scalars`) automatically operate over the \"slip systems\" dimension if it exists. Otherwise, they operate over the \"points\" dimension. The user can also specify which dimension to act on."
   ]
  },
  {
   "cell_type": "code",
   "execution_count": null,
   "id": "2e41a057",
   "metadata": {},
   "outputs": [],
   "source": [
    "print(plastic_slip_rates.max())\n",
    "print(plastic_slip_rates.max(\"s\"))\n",
    "print(plastic_slip_rates.max(\"p\"))"
   ]
  },
  {
   "cell_type": "markdown",
   "id": "a29eed82",
   "metadata": {},
   "source": [
    "Tensors can be added as fields to a material"
   ]
  },
  {
   "cell_type": "code",
   "execution_count": null,
   "id": "5497e6e4",
   "metadata": {},
   "outputs": [],
   "source": [
    "material = Material(dimensions=[2, 2, 2])\n",
    "stiffness_tensor = Order4SymmetricTensor.from_cubic_constants(\n",
    "    C11=250000, C12=140000, C44=100000\n",
    ")\n",
    "orientations = Orientation.random(num=material.num_points)\n",
    "strain = (\n",
    "    Order2SymmetricTensor.from_cartesian([[1.0, 0, 0], [0, 0, 0], [0, 0, 0]]) * 0.001\n",
    ")\n",
    "stresses = stiffness_tensor.to_specimen_frame(orientations) @ strain\n",
    "material = material.create_fields({\"orientation\": orientations, \"stress\": stresses})\n",
    "material.get_fields()"
   ]
  },
  {
   "cell_type": "code",
   "execution_count": null,
   "id": "1e83e613",
   "metadata": {},
   "outputs": [],
   "source": [
    "extracted_stresses = material.extract(\"stress\")\n",
    "np.allclose(stresses.components, extracted_stresses.components)"
   ]
  },
  {
   "cell_type": "markdown",
   "id": "c1d27cac",
   "metadata": {},
   "source": [
    "You can index `Tensor`s like numpy arrays."
   ]
  },
  {
   "cell_type": "code",
   "execution_count": null,
   "id": "81649a46",
   "metadata": {},
   "outputs": [],
   "source": [
    "specimen_frame_schmid_tensors[0]"
   ]
  },
  {
   "cell_type": "code",
   "execution_count": null,
   "id": "7001f501",
   "metadata": {},
   "outputs": [],
   "source": [
    "specimen_frame_schmid_tensors[0, 1]"
   ]
  },
  {
   "cell_type": "code",
   "execution_count": null,
   "id": "f0224c22",
   "metadata": {},
   "outputs": [],
   "source": [
    "specimen_frame_schmid_tensors[:, 1]"
   ]
  },
  {
   "cell_type": "markdown",
   "id": "7e0bc70d",
   "metadata": {},
   "source": [
    "However, you *cannot* pull off particular tensor components or an error will be raised."
   ]
  },
  {
   "cell_type": "code",
   "execution_count": null,
   "id": "731892c7",
   "metadata": {},
   "outputs": [],
   "source": [
    "try:\n",
    "    specimen_frame_schmid_tensors[0, 1, 0]\n",
    "except Exception as e:\n",
    "    print(f\"Error: {type(e).__name__}\")\n",
    "    print(f\"Message: {str(e)}\")"
   ]
  },
  {
   "cell_type": "code",
   "execution_count": null,
   "id": "ef9afcf9",
   "metadata": {},
   "outputs": [],
   "source": [
    "specimen_frame_schmid_tensors.components[0, 1, 0]"
   ]
  },
  {
   "cell_type": "markdown",
   "id": "8ad85297",
   "metadata": {},
   "source": [
    "You can also set elements of a tensor with another tensor of the same type"
   ]
  },
  {
   "cell_type": "code",
   "execution_count": null,
   "id": "f68d85a3",
   "metadata": {},
   "outputs": [],
   "source": [
    "new_stiffnesses = specimen_frame_stiffnesses.copy()\n",
    "new_stiffnesses[1] = specimen_frame_stiffnesses[0]\n",
    "new_stiffnesses"
   ]
  },
  {
   "cell_type": "markdown",
   "id": "63e2183c",
   "metadata": {},
   "source": [
    "Like numpy arrays, creating an instance of a `Tensor` with another tensor returns a copy of that tensor."
   ]
  },
  {
   "cell_type": "code",
   "execution_count": null,
   "id": "1edf1985",
   "metadata": {},
   "outputs": [],
   "source": [
    "vector1 = Vector([[1, 2, 3], [4, 5, 6]])\n",
    "vector2 = Vector(vector1)\n",
    "np.array_equal(vector1.components, vector2.components)"
   ]
  },
  {
   "cell_type": "markdown",
   "id": "b9f48f57",
   "metadata": {},
   "source": [
    "Confirm that we made a copy of the original `Vector`."
   ]
  },
  {
   "cell_type": "code",
   "execution_count": null,
   "id": "5e0495f0",
   "metadata": {},
   "outputs": [],
   "source": [
    "vector2[1] = vector1[0]\n",
    "np.array_equal(vector1.components, vector2.components)"
   ]
  }
 ],
 "metadata": {
  "kernelspec": {
   "display_name": "materialite",
   "language": "python",
   "name": "python3"
  },
  "language_info": {
   "codemirror_mode": {
    "name": "ipython",
    "version": 3
   },
   "file_extension": ".py",
   "mimetype": "text/x-python",
   "name": "python",
   "nbconvert_exporter": "python",
   "pygments_lexer": "ipython3",
   "version": "3.13.5"
  }
 },
 "nbformat": 4,
 "nbformat_minor": 5
}
