{
 "cells": [
  {
   "cell_type": "markdown",
   "id": "3c3669fb",
   "metadata": {},
   "source": [
    "# Convolution Thermal"
   ]
  },
  {
   "cell_type": "code",
   "execution_count": null,
   "id": "eb023320",
   "metadata": {
    "tags": [
     "remove-cell"
    ]
   },
   "outputs": [],
   "source": [
    "import pyvista as pv\n",
    "\n",
    "pv.set_jupyter_backend(\"static\")\n",
    "\n",
    "%load_ext autoreload\n",
    "%autoreload 2"
   ]
  },
  {
   "cell_type": "code",
   "execution_count": null,
   "id": "cc020c92-2b7a-4cc6-af53-40a814b63626",
   "metadata": {},
   "outputs": [],
   "source": [
    "from materialite.models.convolution_model import ConvolutionModel, LaserBeam\n",
    "from materialite import Material\n",
    "import numpy as np"
   ]
  },
  {
   "cell_type": "markdown",
   "id": "3a3ed0ee-ea95-4915-9525-03654c4cd2ed",
   "metadata": {},
   "source": [
    "Materialite implements a method currently termed the 'convolution method' for simulating the temperature fields resulting from laser heating. To use this model, first a laser path needs to be created:"
   ]
  },
  {
   "cell_type": "code",
   "execution_count": null,
   "id": "dfc9719e-0066-418f-acdf-65b781539c47",
   "metadata": {},
   "outputs": [],
   "source": [
    "material = Material(dimensions=[200, 60, 40], spacing=[5e-6, 5e-6, 5e-6])\n",
    "material = material.create_uniform_field(\"temperature\", 300.0)\n",
    "laser = LaserBeam(\n",
    "    material,\n",
    "    laser_power=100,\n",
    "    hatch_spacing=20,\n",
    "    beam_x_radius=50.0e-6,\n",
    "    beam_y_radius=50.0e-6,\n",
    "    beam_z_radius=30.0e-6,\n",
    "    num_layers=1,\n",
    "    scan_offset_start=-10,\n",
    "    hatch_offset_start=30,\n",
    "    hatch_offset_end=-30,\n",
    "    z_start=40,\n",
    "    layer_thickness=8,\n",
    "    time_between_scans=0.000,\n",
    "    time_between_layers=0.0,\n",
    "    rotation_angle_increment=np.deg2rad(67),\n",
    ")\n",
    "\n",
    "laser.create_build_path(material, adjust_domain=True, domain_epsilon=5e-6)\n",
    "laser.plot_beam_path()"
   ]
  },
  {
   "cell_type": "markdown",
   "id": "cede0765-f1b5-435d-b9ef-6501b3540098",
   "metadata": {},
   "source": [
    "Next, the model needs to be set up. It requires thermophysical properties to be passed in. The 'enthalpy_props' are enthalpy-related thermophysical parameters that allow for simulating phase change using the enthalpy method. "
   ]
  },
  {
   "cell_type": "code",
   "execution_count": null,
   "id": "7a7ad75e-c524-4526-ae89-fc656694873c",
   "metadata": {},
   "outputs": [],
   "source": [
    "density = 4200.0\n",
    "specific_heat_capacity = 656.2\n",
    "thermal_conductivity = 18.72\n",
    "volumetric_specific_heat = specific_heat_capacity * density\n",
    "thermal_diffusivity = thermal_conductivity / volumetric_specific_heat\n",
    "\n",
    "thermophysical_props = {\n",
    "    \"thermal_diffusivity\": thermal_diffusivity,\n",
    "    \"volumetric_specific_heat\": volumetric_specific_heat,\n",
    "    \"power_absorptivity\": 0.48,\n",
    "    \"melt_temperature\": 1928.0,\n",
    "}\n",
    "\n",
    "enthalpy_props = {\n",
    "    \"vapor_temperature\": 3000.0,\n",
    "    \"heat_of_fusion\": 370000.0 * density,\n",
    "    \"heat_of_vapor\": 10000000 * density,\n",
    "    \"melt_range\": 25.0,\n",
    "    \"vapor_range\": 10.0,\n",
    "}\n",
    "\n",
    "model = ConvolutionModel(\n",
    "    save_frequency=50,\n",
    "    time_steps=175,\n",
    "    thermophysical_props=thermophysical_props,\n",
    "    enthalpy_props=enthalpy_props,\n",
    "    adjust_xy_radii_multiple=3,\n",
    "    adjust_xy_extra_voxels=0,\n",
    "    z_range=60,\n",
    ")"
   ]
  },
  {
   "cell_type": "markdown",
   "id": "45cc0250-a0ec-4e6c-9eb0-df76e197e410",
   "metadata": {},
   "source": [
    "The model can be ran, and the temperature field can be plotted: "
   ]
  },
  {
   "cell_type": "code",
   "execution_count": null,
   "id": "7dadccc0-0b42-4ae9-805a-b9ae703aa1cd",
   "metadata": {},
   "outputs": [],
   "source": [
    "new_material = model.run(material, laser, \"temperature\")\n",
    "new_material.plot(\"temperature\", color_lims=[300, 1500])"
   ]
  },
  {
   "cell_type": "markdown",
   "id": "5f098132-67b8-497e-99d2-41830ec15275",
   "metadata": {},
   "source": [
    "The enthalpy method allows for the phase to be predicted as well. The integer values correspond to 0=solid, 1=mushy/partially molten, 2=liquid, and 3=partially vaporized"
   ]
  },
  {
   "cell_type": "code",
   "execution_count": null,
   "id": "e5ac5ced-7edb-4370-b65e-0c47c4a88c7d",
   "metadata": {},
   "outputs": [],
   "source": [
    "new_material.plot(\"phase\")"
   ]
  }
 ],
 "metadata": {
  "kernelspec": {
   "display_name": "materialite",
   "language": "python",
   "name": "python3"
  },
  "language_info": {
   "codemirror_mode": {
    "name": "ipython",
    "version": 3
   },
   "file_extension": ".py",
   "mimetype": "text/x-python",
   "name": "python",
   "nbconvert_exporter": "python",
   "pygments_lexer": "ipython3",
   "version": "3.13.5"
  }
 },
 "nbformat": 4,
 "nbformat_minor": 5
}
