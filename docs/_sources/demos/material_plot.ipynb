{
 "cells": [
  {
   "cell_type": "markdown",
   "id": "e4d12c1a",
   "metadata": {},
   "source": [
    "# Material Plotting"
   ]
  },
  {
   "cell_type": "code",
   "execution_count": null,
   "id": "847eaad9",
   "metadata": {
    "tags": [
     "remove-cell"
    ]
   },
   "outputs": [],
   "source": [
    "import pyvista as pv\n",
    "\n",
    "pv.set_jupyter_backend(\"static\")\n",
    "\n",
    "%load_ext autoreload\n",
    "%autoreload 2"
   ]
  },
  {
   "cell_type": "markdown",
   "id": "eebb9900",
   "metadata": {},
   "source": [
    "The `plot` method of `Material` uses PyVista to quickly visualize fields of the `Material`. Here we will look at how to plot different kinds of fields.\n",
    "\n",
    "For simple numerical fields, `plot` only requires the name of the field. For example, plot a Voronoi tesselation of grains."
   ]
  },
  {
   "cell_type": "code",
   "execution_count": null,
   "id": "6f1991f9",
   "metadata": {},
   "outputs": [],
   "source": [
    "from materialite import Material\n",
    "import numpy as np\n",
    "\n",
    "rng = np.random.default_rng(12345)\n",
    "num_grains = 3\n",
    "unique_grains = np.arange(num_grains)\n",
    "material = Material().create_voronoi(num_regions=num_grains, label=\"grain\", rng=rng)\n",
    "material.plot(\"grain\")"
   ]
  },
  {
   "cell_type": "markdown",
   "id": "2e091b50",
   "metadata": {},
   "source": [
    "`plot` defaults include:\n",
    "- points rendered as voxels with the point at the centroid.\n",
    "- the `coolwarm` colormap.\n",
    "- no grid/ruler.\n",
    "- no voxel edges."
   ]
  },
  {
   "cell_type": "code",
   "execution_count": null,
   "id": "fa262476",
   "metadata": {},
   "outputs": [],
   "source": [
    "material.plot(\"grain\", show_grid=True, show_edges=True, colormap=\"inferno\")"
   ]
  },
  {
   "cell_type": "markdown",
   "id": "7fe8c17c",
   "metadata": {},
   "source": [
    "Sometimes, a field may be a 1-D numpy array at each point. In this case, a component needs to be passed to `plot` as well. The component refers to the index of the array."
   ]
  },
  {
   "cell_type": "code",
   "execution_count": null,
   "id": "77573d33",
   "metadata": {},
   "outputs": [],
   "source": [
    "material = material.create_uniform_field(\"array\", np.arange(3))\n",
    "material.plot(\"array\", component=2)"
   ]
  },
  {
   "cell_type": "markdown",
   "id": "e2407ce7",
   "metadata": {},
   "source": [
    "Many mechanical models will create stress and/or strain fields in the `Material` that consist of symmetric second-order tensors. Here, `component` refers to the tensor component in Voigt notation $(0 \\rightarrow xx,\\ 1 \\rightarrow yy,\\ 2 \\rightarrow zz,\\ 3 \\rightarrow yz,\\ 4 \\rightarrow xz,\\ 5 \\rightarrow xy)$"
   ]
  },
  {
   "cell_type": "code",
   "execution_count": null,
   "id": "5a1a6dd8",
   "metadata": {},
   "outputs": [],
   "source": [
    "from materialite import Order2SymmetricTensor\n",
    "\n",
    "stresses = np.zeros((num_grains, 6))\n",
    "stresses[:, 0] = [1000, 10, 100]\n",
    "grainwise_stresses = Order2SymmetricTensor.from_stress_voigt(stresses)\n",
    "material = material.create_regional_fields(\n",
    "    region_label=\"grain\",\n",
    "    regional_fields={\"grain\": unique_grains, \"stress\": grainwise_stresses},\n",
    ")\n",
    "material.plot(\"stress\", component=0)"
   ]
  },
  {
   "cell_type": "markdown",
   "id": "6ec5fd98",
   "metadata": {},
   "source": [
    "It is possible to modify the bounds on the data that is plotted. For example, we can increase the lower bound to better visualize the stress distribution in stiffer grains."
   ]
  },
  {
   "cell_type": "code",
   "execution_count": null,
   "id": "ab66ac61",
   "metadata": {},
   "outputs": [],
   "source": [
    "material.plot(\"stress\", component=0, color_lims=(500, 1000))"
   ]
  },
  {
   "cell_type": "markdown",
   "id": "26af88e8",
   "metadata": {},
   "source": [
    "`Scalar`s and `Vector`s from the Materialite tensor library can also be plotted. `Scalar` fields are handled like numerical fields, and `Vector` fields are handled like numpy arrays."
   ]
  },
  {
   "cell_type": "markdown",
   "id": "5825dc1f",
   "metadata": {},
   "source": [
    "`plot` can also be used to make an inverse pole figure map if there is a field containing RGB values corresponding to the IPF. Materialite has a utility function to create this field given a field of `Orientation`s, a unit cell type, and a reference direction."
   ]
  },
  {
   "cell_type": "code",
   "execution_count": null,
   "id": "ec930d74",
   "metadata": {},
   "outputs": [],
   "source": [
    "from materialite import add_ipf_colors_field\n",
    "\n",
    "material = material.assign_random_orientations(\n",
    "    region_label=\"grain\", orientation_label=\"orientation\", rng=rng\n",
    ")\n",
    "material = add_ipf_colors_field(\n",
    "    material,\n",
    "    orientation_label=\"orientation\",\n",
    "    specimen_frame_direction=[0, 0, 1],\n",
    "    unit_cell=\"cubic\",\n",
    "    ipf_color_label=\"ipf_color\",\n",
    ")\n",
    "material.plot(\"ipf_color\", kind=\"ipf_map\")"
   ]
  }
 ],
 "metadata": {
  "kernelspec": {
   "display_name": "materialize",
   "language": "python",
   "name": "python3"
  },
  "language_info": {
   "codemirror_mode": {
    "name": "ipython",
    "version": 3
   },
   "file_extension": ".py",
   "mimetype": "text/x-python",
   "name": "python",
   "nbconvert_exporter": "python",
   "pygments_lexer": "ipython3",
   "version": "3.10.12"
  }
 },
 "nbformat": 4,
 "nbformat_minor": 5
}
