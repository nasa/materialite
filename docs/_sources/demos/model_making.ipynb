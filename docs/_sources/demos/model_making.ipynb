{
 "cells": [
  {
   "cell_type": "markdown",
   "metadata": {},
   "source": [
    "# Creating New Models"
   ]
  },
  {
   "cell_type": "code",
   "execution_count": null,
   "metadata": {
    "tags": [
     "remove-cell"
    ]
   },
   "outputs": [],
   "source": [
    "import pyvista as pv\n",
    "\n",
    "pv.set_jupyter_backend(\"static\")\n",
    "\n",
    "%load_ext autoreload\n",
    "%autoreload 2"
   ]
  },
  {
   "cell_type": "code",
   "execution_count": null,
   "metadata": {},
   "outputs": [],
   "source": [
    "import numpy as np\n",
    "\n",
    "from materialite import Material\n",
    "from materialite.models import Model"
   ]
  },
  {
   "cell_type": "markdown",
   "metadata": {},
   "source": [
    "In Materialite, models are classes that are designed to operate on a `Material` in some way and return a new `Material`. Models have three requirements:\n",
    "1. Models must be subclasses of the Materialite `Material` class. \n",
    "2. The inputs of the model constructor (`__init__`) should be model parameters that are not associated with the `Material` (e.g., time incrementation parameters, applied loads, etc.) and stores them as attributes of the model.\n",
    "3. Models must have a method called `run`. The first input to the run method must be a `Material`. Typically, we also have keyword arguments for labels of fields in the `Material` that the model will use. The basic workflow in the run method is (1) pull required fields from the `Material`; (2) do the actual calculations associated with the model (this step should not depend on any details of the `Material`); (3) after the model is done running, create a new `Material` with outputs from the model.\n",
    "\n",
    "Here, we will make a simple model that does a uniaxial decoupled elasticity simulation. The model input is the applied uniaxial strain. The `Material` needs to have a field that provides Young's modulus at each point."
   ]
  },
  {
   "cell_type": "code",
   "execution_count": null,
   "metadata": {},
   "outputs": [],
   "source": [
    "class UniaxialElasticity(Model):\n",
    "    def __init__(self, applied_strain):\n",
    "        self.applied_strain = applied_strain\n",
    "\n",
    "    def run(self, material, modulus_field=\"modulus\"):\n",
    "        # inputs from Material\n",
    "        moduli = material.extract(modulus_field)\n",
    "        # do calculations\n",
    "        stress = moduli * self.applied_strain\n",
    "        # output to Material\n",
    "        return material.create_fields({\"stress\": stress})"
   ]
  },
  {
   "cell_type": "markdown",
   "metadata": {},
   "source": [
    "Create an instance of the model"
   ]
  },
  {
   "cell_type": "code",
   "execution_count": null,
   "metadata": {},
   "outputs": [],
   "source": [
    "applied_strain = 0.001\n",
    "model = UniaxialElasticity(applied_strain)"
   ]
  },
  {
   "cell_type": "markdown",
   "metadata": {},
   "source": [
    "Create a `Material` with the required field."
   ]
  },
  {
   "cell_type": "code",
   "execution_count": null,
   "metadata": {},
   "outputs": [],
   "source": [
    "material = Material()\n",
    "rng = np.random.default_rng(12345)\n",
    "moduli = rng.normal(1000, 10, size=(material.num_points,))\n",
    "material = material.create_fields({\"modulus\": moduli})"
   ]
  },
  {
   "cell_type": "markdown",
   "metadata": {},
   "source": [
    "There are three ways to run a model with a `Material`.\n",
    "\n",
    "1. Call `model.run(material)`"
   ]
  },
  {
   "cell_type": "code",
   "execution_count": null,
   "metadata": {},
   "outputs": [],
   "source": [
    "material1 = model.run(material)"
   ]
  },
  {
   "cell_type": "markdown",
   "metadata": {},
   "source": [
    "2. Call `model(material)`"
   ]
  },
  {
   "cell_type": "code",
   "execution_count": null,
   "metadata": {},
   "outputs": [],
   "source": [
    "material2 = model(material)"
   ]
  },
  {
   "cell_type": "markdown",
   "metadata": {},
   "source": [
    "3. Call `material.run(model)`. This is useful because it allows method chaining in a `Material`. For example, we could both add the modulus field and run the model like this:"
   ]
  },
  {
   "cell_type": "code",
   "execution_count": null,
   "metadata": {},
   "outputs": [],
   "source": [
    "material3 = Material().create_fields({\"modulus\": moduli}).run(model)"
   ]
  },
  {
   "cell_type": "code",
   "execution_count": null,
   "metadata": {},
   "outputs": [],
   "source": [
    "print(np.allclose(material1.extract(\"stress\"), material2.extract(\"stress\")))\n",
    "print(np.allclose(material1.extract(\"stress\"), material3.extract(\"stress\")))"
   ]
  },
  {
   "cell_type": "markdown",
   "metadata": {},
   "source": [
    "Some notes:\n",
    "* There is significant flexibility in how the `run` method actually runs the model. The only requirements are that the first input to the method is a `Material`, and that the method returns a `Material`. The mechanics of actually running the model are up to you. Depending on the complexity of the model, it might make sense to split off some of the calculations to other methods or functions that are called within run.\n",
    "* If the model takes many time steps (like most physics-based models will do), you may want to store outputs at multiple steps. For now, we are using `material.state` for this purpose. `state` is a dictionary that is an attribute of any `Material`. The model can add any key-value pairs that you would like to this dictionary. `material.state` is also useful for storing model outputs that don't make sense as pointwise fields (e.g., some average measure, the total energy in a Potts model, etc.) This is probably not the long-term solution, but it works for now."
   ]
  }
 ],
 "metadata": {
  "kernelspec": {
   "display_name": "materialite",
   "language": "python",
   "name": "python3"
  },
  "language_info": {
   "codemirror_mode": {
    "name": "ipython",
    "version": 3
   },
   "file_extension": ".py",
   "mimetype": "text/x-python",
   "name": "python",
   "nbconvert_exporter": "python",
   "pygments_lexer": "ipython3",
   "version": "3.13.5"
  }
 },
 "nbformat": 4,
 "nbformat_minor": 2
}
