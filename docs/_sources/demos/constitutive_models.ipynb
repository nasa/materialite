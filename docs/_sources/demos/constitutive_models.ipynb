{
 "cells": [
  {
   "cell_type": "markdown",
   "id": "ba6d937c",
   "metadata": {},
   "source": [
    "# Constitutive Models"
   ]
  },
  {
   "cell_type": "code",
   "execution_count": null,
   "id": "61da5ed7",
   "metadata": {
    "tags": [
     "remove-cell"
    ]
   },
   "outputs": [],
   "source": [
    "import pyvista as pv\n",
    "\n",
    "pv.set_jupyter_backend(\"static\")\n",
    "\n",
    "%load_ext autoreload\n",
    "%autoreload 2"
   ]
  },
  {
   "cell_type": "code",
   "execution_count": null,
   "id": "8cc5d836-b5d3-4329-9a8b-47480edab7ce",
   "metadata": {},
   "outputs": [],
   "source": [
    "import logging\n",
    "\n",
    "import numpy as np\n",
    "import pandas as pd\n",
    "import matplotlib.pyplot as plt\n",
    "\n",
    "from materialite import (\n",
    "    Material,\n",
    "    Sphere,\n",
    "    Order2SymmetricTensor,\n",
    "    Order4SymmetricTensor,\n",
    "    Orientation,\n",
    "    SlipSystem,\n",
    ")\n",
    "from materialite.models.small_strain_fft import (\n",
    "    SmallStrainFFT,\n",
    "    LoadSchedule,\n",
    "    Elastic,\n",
    "    ElasticViscoplastic,\n",
    "    IsotropicElasticPlastic,\n",
    "    voce,\n",
    "    linear,\n",
    ")"
   ]
  },
  {
   "cell_type": "markdown",
   "id": "4ece758a",
   "metadata": {},
   "source": [
    "**Example 1: Uniaxial tension with linear elasticity**\n",
    "\n",
    "First, create a `Material` with an \"orientation\" field set to the identity everywhere. `SmallStrainFFT` requires information about the orientation of each point, although this is only relevant for anisotropic constitutive laws."
   ]
  },
  {
   "cell_type": "code",
   "execution_count": null,
   "id": "7d6dd326",
   "metadata": {},
   "outputs": [],
   "source": [
    "material = Material(dimensions=[8, 8, 8]).create_uniform_field(\n",
    "    \"orientation\", Orientation.identity()\n",
    ")"
   ]
  },
  {
   "cell_type": "markdown",
   "id": "9e52e006",
   "metadata": {},
   "source": [
    "`SmallStrainFFT` requires a constitutive model and the boundary conditions as inputs. Here, we define a simple linear elastic model. The only input is the stiffness tensor. We will use units of MPa throughout.\n",
    "\n",
    "The boundary conditions come from a `LoadSchedule` object. Here, we define uniaxial tension in the `z` direction with a strain rate of $1 /\\mathrm{s}$ (i.e., $\\dot{E}_{33} = 1/\\mathrm{s}$, with all average stress components other than $\\Sigma_{33}$ equal to zero)"
   ]
  },
  {
   "cell_type": "code",
   "execution_count": null,
   "id": "9e88f9fb",
   "metadata": {},
   "outputs": [],
   "source": [
    "stiffness_tensor = Order4SymmetricTensor.from_isotropic_constants(\n",
    "    modulus=200000, shear_modulus=77000\n",
    ")\n",
    "constitutive_model = Elastic(stiffness=stiffness_tensor)\n",
    "load_schedule = LoadSchedule.from_constant_uniaxial_strain_rate(\n",
    "    magnitude=1.0, direction=\"z\"\n",
    ")"
   ]
  },
  {
   "cell_type": "markdown",
   "id": "fd2464fe",
   "metadata": {},
   "source": [
    "Now we can instantiate and run the model. `SmallStrainFFT` takes the following inputs:\n",
    "- The `LoadSchedule` object we created.\n",
    "- The end time of the simulation.\n",
    "- The initial time increment.\n",
    "- The constitutive model we defined.\n",
    "\n",
    "We will take one time increment of $0.001$ s."
   ]
  },
  {
   "cell_type": "code",
   "execution_count": null,
   "id": "19425dff",
   "metadata": {},
   "outputs": [],
   "source": [
    "model = SmallStrainFFT(\n",
    "    load_schedule=load_schedule,\n",
    "    end_time=0.001,\n",
    "    initial_time_increment=0.001,\n",
    "    constitutive_model=constitutive_model,\n",
    ")\n",
    "material = material.run(model)"
   ]
  },
  {
   "cell_type": "markdown",
   "id": "0373951f",
   "metadata": {},
   "source": [
    "Running the model adds stress and strain field to the `Material`. The stress has one nonzero component, which is the same everywhere and simply equal to the total applied strain multiplied by Young's modulus."
   ]
  },
  {
   "cell_type": "code",
   "execution_count": null,
   "id": "f1aa7f14",
   "metadata": {},
   "outputs": [],
   "source": [
    "material.extract(\"stress\").mean().stress_voigt"
   ]
  },
  {
   "cell_type": "code",
   "execution_count": null,
   "id": "9e29bf54",
   "metadata": {},
   "outputs": [],
   "source": [
    "material.plot(\"stress\", component=2, color_lims=(190, 210))"
   ]
  },
  {
   "cell_type": "markdown",
   "id": "11791224",
   "metadata": {},
   "source": [
    "**Example 2: Uniaxial tension with isotropic plasticity**\n",
    "\n",
    "This is very similar to the elastic simulation. We define a `Material`, an isotropic elastic-plastic constitutive model, and the same `LoadSchedule` as before. The new constitutive model requires:\n",
    "- Young's modulus\n",
    "- Shear modulus\n",
    "- Initial yield stress\n",
    "- Hardening law. Here, we use linear hardening.\n",
    "- Hardening properties"
   ]
  },
  {
   "cell_type": "code",
   "execution_count": null,
   "id": "493532e4",
   "metadata": {},
   "outputs": [],
   "source": [
    "material = Material(dimensions=[8, 8, 8]).create_uniform_field(\n",
    "    \"orientation\", Orientation.identity()\n",
    ")\n",
    "stiffness_tensor = Order4SymmetricTensor.from_isotropic_constants(\n",
    "    modulus=200000, shear_modulus=77000\n",
    ")\n",
    "constitutive_model = IsotropicElasticPlastic(\n",
    "    modulus=200000,\n",
    "    shear_modulus=77000,\n",
    "    yield_stress=300,\n",
    "    hardening_function=linear,\n",
    "    hardening_properties={\"hardening_rate\": 1000},\n",
    ")\n",
    "load_schedule = LoadSchedule.from_constant_uniaxial_strain_rate(\n",
    "    magnitude=1.0, direction=\"z\"\n",
    ")"
   ]
  },
  {
   "cell_type": "markdown",
   "id": "af95dfc3",
   "metadata": {},
   "source": [
    "Running the model is similar to before. Now the total time of the simulation will be $0.01$ s, corresponding to $1\\%$ strain. We will also request stress and strain output at several times during the simulation so that we can construct the stress-strain curve."
   ]
  },
  {
   "cell_type": "code",
   "execution_count": null,
   "id": "6b256dbe",
   "metadata": {},
   "outputs": [],
   "source": [
    "model = SmallStrainFFT(\n",
    "    load_schedule=load_schedule,\n",
    "    end_time=0.01,\n",
    "    initial_time_increment=0.001,\n",
    "    constitutive_model=constitutive_model,\n",
    ")\n",
    "num_output_times = 10\n",
    "output_times = np.linspace(start=0.001, stop=0.01, num=num_output_times)\n",
    "material = material.run(model, output_times=output_times)"
   ]
  },
  {
   "cell_type": "markdown",
   "id": "f1a1588d",
   "metadata": {},
   "source": [
    "Since we specified `output_times`, the returned `Material` will now have an attribute called `state`. This is a dictionary whose keys correspond to the indices of the output times."
   ]
  },
  {
   "cell_type": "code",
   "execution_count": null,
   "id": "8e386911",
   "metadata": {},
   "outputs": [],
   "source": [
    "print(material.state.keys())"
   ]
  },
  {
   "cell_type": "markdown",
   "id": "4cbfbebd",
   "metadata": {},
   "source": [
    "Each entry is a dictionary that contains the corresponding time and the stress, strain, and any requested state variables (see the next example for these)."
   ]
  },
  {
   "cell_type": "code",
   "execution_count": null,
   "id": "309d72bf",
   "metadata": {},
   "outputs": [],
   "source": [
    "print(f\"outputs at first output time: {material.state['output_time_0'].keys()}\\n\")\n",
    "print(f\"first output time: {material.state['output_time_0']['time']}\\n\")\n",
    "print(f\"stress at first output time:\\n {material.state['output_time_0']['stress']}\\n\")\n",
    "print(f\"strain at first output time:\\n {material.state['output_time_0']['strain']}\")"
   ]
  },
  {
   "cell_type": "markdown",
   "id": "f2d42426",
   "metadata": {},
   "source": [
    "Make a function for plotting the stress-strain curve."
   ]
  },
  {
   "cell_type": "code",
   "execution_count": null,
   "id": "e666636a",
   "metadata": {},
   "outputs": [],
   "source": [
    "def get_stress_strain_curve(material, output_times):\n",
    "    stress = [0]\n",
    "    strain = [0]\n",
    "    for i in range(len(output_times)):\n",
    "        state = material.state[f\"output_time_{i}\"]\n",
    "        stress.append(state[\"stress\"].mean().components[2])\n",
    "        strain.append(state[\"strain\"].mean().components[2])\n",
    "    return np.array(stress), np.array(strain)"
   ]
  },
  {
   "cell_type": "markdown",
   "id": "a406d214",
   "metadata": {},
   "source": [
    "Plot the stress-strain curve and the axial stress field."
   ]
  },
  {
   "cell_type": "code",
   "execution_count": null,
   "id": "34c410ab",
   "metadata": {},
   "outputs": [],
   "source": [
    "stress, strain = get_stress_strain_curve(material, output_times)\n",
    "fig, ax = plt.subplots()\n",
    "ax.plot(strain, stress)\n",
    "ax.set_xlabel(\"axial strain\")\n",
    "ax.set_ylabel(\"axial stress [MPa]\")"
   ]
  },
  {
   "cell_type": "code",
   "execution_count": null,
   "id": "f104238d",
   "metadata": {},
   "outputs": [],
   "source": [
    "material.plot(\"stress\", component=2, color_lims=(290, 310))"
   ]
  },
  {
   "cell_type": "markdown",
   "id": "26dd42d4",
   "metadata": {},
   "source": [
    "**Example 3: Uniaxial tension of a single-phase FCC material**\n",
    "\n",
    "First, create a `Material` with a periodic Voronoi tesselation of grains, each of which has a random orientation. Visualize the grain structure."
   ]
  },
  {
   "cell_type": "code",
   "execution_count": null,
   "id": "b173fd85",
   "metadata": {},
   "outputs": [],
   "source": [
    "num_grains = 30\n",
    "grains_list = np.arange(num_grains)\n",
    "rng = np.random.default_rng(1)\n",
    "\n",
    "material = (\n",
    "    Material(dimensions=[16, 16, 16])\n",
    "    .create_voronoi(num_grains, periodic=True, label=\"grain\", rng=rng)\n",
    "    .assign_random_orientations(\n",
    "        region_label=\"grain\", orientation_label=\"orientation\", rng=rng\n",
    "    )\n",
    ")\n",
    "material.plot(\"grain\")"
   ]
  },
  {
   "cell_type": "markdown",
   "id": "a2234823",
   "metadata": {},
   "source": [
    "Next, we define a crystalline elastic-viscoplastic constitutive model with a Voce hardening law for the material.\n",
    "- Stiffness tensor, $\\mathbb{C}$\n",
    "- Slip systems operative in the material. We assume an FCC material here, so the octahedral slip systems are active.\n",
    "- Reference slip rate, $\\dot{\\gamma}_0$\n",
    "- Rate exponent, $m$\n",
    "- Initial slip resistance, $\\tau_0$\n",
    "- Voce hardening law parameters: $\\tau_1$, $\\theta_0$, $\\theta_1$"
   ]
  },
  {
   "cell_type": "code",
   "execution_count": null,
   "id": "2179d713",
   "metadata": {},
   "outputs": [],
   "source": [
    "stiffness_tensor = Order4SymmetricTensor.from_cubic_constants(\n",
    "    C11=243300, C12=156700, C44=117800\n",
    ")\n",
    "constitutive_model = ElasticViscoplastic(\n",
    "    stiffness=stiffness_tensor,\n",
    "    slip_systems=SlipSystem.octahedral(),\n",
    "    reference_slip_rate=1.0,\n",
    "    rate_exponent=10.0,\n",
    "    slip_resistance=143.0,\n",
    "    hardening_function=voce,\n",
    "    hardening_properties={\"tau_1\": 50.0, \"theta_0\": 1450.0, \"theta_1\": 95.0},\n",
    ")"
   ]
  },
  {
   "cell_type": "markdown",
   "id": "78e2913a",
   "metadata": {},
   "source": [
    "Here, we'll still apply a constant uniaxial strain rate, but using a more general `LoadSchedule` constructor, `LoadSchedule.from_constant_rates()`, as a demonstration. The inputs are:\n",
    "* `strain_rate`: constant mean strain rate during the simulation; must be an `Order2SymmetricTensor`.\n",
    "* `stress_rate`: constant mean stress rate during the simulation; must be an `Order2SymmetricTensor`.\n",
    "* `stress_mask`: numpy array with six values, where each value is a `1` or `0`. Indices correspond to the Voigt components of the `stress_rate`. `1` indicates that the corresponding mean stress component in `stress_rate` is enforced in the simulation. `0` indicates that the corresponding mean strain rate is enforced in the simulation."
   ]
  },
  {
   "cell_type": "code",
   "execution_count": null,
   "id": "b57f88c8",
   "metadata": {},
   "outputs": [],
   "source": [
    "strain_rate = Order2SymmetricTensor.from_strain_voigt([0, 0, 1.0, 0, 0, 0])\n",
    "stress_rate = Order2SymmetricTensor.zero()\n",
    "stress_mask = np.array([1, 1, 0, 1, 1, 1])\n",
    "load_schedule = LoadSchedule.from_constant_rates(\n",
    "    strain_rate=strain_rate, stress_rate=stress_rate, stress_mask=stress_mask\n",
    ")"
   ]
  },
  {
   "cell_type": "markdown",
   "id": "5bfaf57d",
   "metadata": {},
   "source": [
    "The constitutive models can have some internal state variables that we may be interested in. Each one comes with an `available_state_variables` attribute that you can query."
   ]
  },
  {
   "cell_type": "code",
   "execution_count": null,
   "id": "77778a54",
   "metadata": {},
   "outputs": [],
   "source": [
    "constitutive_model.available_state_variables"
   ]
  },
  {
   "cell_type": "markdown",
   "id": "314e533d",
   "metadata": {},
   "source": [
    "Creating and running the `SmallStrainFFT` model proceeds as before. Here, we will request slip system shear strain outputs using the `output_variables` keyword argument, which must be a list. We will also use Python's `logging` module to get information during the simulation.  `INFO` marks the start of new increments. `DEBUG` provides additional debugging information related to convergence."
   ]
  },
  {
   "cell_type": "code",
   "execution_count": null,
   "id": "06d5e1c9",
   "metadata": {},
   "outputs": [],
   "source": [
    "model = SmallStrainFFT(\n",
    "    load_schedule=load_schedule,\n",
    "    end_time=0.007,\n",
    "    initial_time_increment=0.001,\n",
    "    constitutive_model=constitutive_model,\n",
    ")\n",
    "num_output_times = 7\n",
    "output_times = np.linspace(start=0.001, stop=0.007, num=num_output_times)\n",
    "\n",
    "logging.basicConfig(level=logging.INFO)\n",
    "material = material.run(\n",
    "    model, output_times=output_times, output_variables=[\"slip_system_shear_strains\"]\n",
    ")\n",
    "# reset logging to default to avoid INFO outputs from PyVista\n",
    "logger = logging.getLogger()\n",
    "logger.setLevel(logging.WARNING)"
   ]
  },
  {
   "cell_type": "markdown",
   "id": "cd86f8c5",
   "metadata": {},
   "source": [
    "Plot the mean stress-strain curve and the axial stress field. Note that the stress field is now inhomogeneous."
   ]
  },
  {
   "cell_type": "code",
   "execution_count": null,
   "id": "30a96ca2",
   "metadata": {},
   "outputs": [],
   "source": [
    "stress, strain = get_stress_strain_curve(material, output_times)\n",
    "fig, ax = plt.subplots()\n",
    "ax.plot(strain, stress)\n",
    "ax.set_xlabel(\"axial strain\")\n",
    "ax.set_ylabel(\"axial stress [MPa]\")"
   ]
  },
  {
   "cell_type": "code",
   "execution_count": null,
   "id": "e31a6153",
   "metadata": {},
   "outputs": [],
   "source": [
    "material.plot(\"stress\", component=2)"
   ]
  },
  {
   "cell_type": "markdown",
   "id": "21733611",
   "metadata": {},
   "source": [
    "The slip system shear strains at the end of the simulation will be added to `material.fields`, in addition to the stress and strain, and will be stored in `material.state` at each of the output times."
   ]
  },
  {
   "cell_type": "code",
   "execution_count": null,
   "id": "d9b6f05d",
   "metadata": {},
   "outputs": [],
   "source": [
    "material.extract(\"slip_system_shear_strains\")"
   ]
  },
  {
   "cell_type": "markdown",
   "id": "94754358-9f82-4bff-8bc0-1b2587870801",
   "metadata": {},
   "source": [
    "**Example 4: Uniaxial tension of a single crystal with a pore**\n",
    "\n",
    "Here, we will simulate a plastically deforming matrix with a pore in the center. In this case, we need to assign a field to the material that identifies the phase (1 for the matrix and 2 for the pore)."
   ]
  },
  {
   "cell_type": "code",
   "execution_count": null,
   "id": "78fdf0ee-4a35-4c2a-91b6-81aa2b13ddbe",
   "metadata": {},
   "outputs": [],
   "source": [
    "midpoint = 7.5\n",
    "material = (\n",
    "    Material(dimensions=[16, 16, 16])\n",
    "    .create_uniform_field(\"orientation\", Orientation.identity())\n",
    "    .create_uniform_field(\"phase\", 1)\n",
    "    .insert_feature(\n",
    "        Sphere(radius=3, centroid=[midpoint, midpoint, midpoint]),\n",
    "        fields={\"phase\": 2},\n",
    "    )\n",
    ")\n",
    "material.crop_by_range(x_range=(-np.inf, material.sizes[0] / 2)).plot(\"phase\")"
   ]
  },
  {
   "cell_type": "markdown",
   "id": "91007166-e9c6-4ac0-af2d-aad50b44297c",
   "metadata": {},
   "source": [
    "We will define separate constitutive models for the crystal and the pore. The pore will be an elastic model with a much smaller stiffness than the crystal (this model will fail in the case of an infinite stiffness contrast)."
   ]
  },
  {
   "cell_type": "code",
   "execution_count": null,
   "id": "dab2c168-f8c9-4dc0-b32e-4ab5b360fd38",
   "metadata": {},
   "outputs": [],
   "source": [
    "stiffness_tensor = Order4SymmetricTensor.from_cubic_constants(\n",
    "    C11=243300, C12=156700, C44=117800\n",
    ")\n",
    "evp_model = ElasticViscoplastic(\n",
    "    stiffness=stiffness_tensor,\n",
    "    slip_systems=SlipSystem.octahedral(),\n",
    "    reference_slip_rate=1.0,\n",
    "    rate_exponent=10.0,\n",
    "    slip_resistance=143.0,\n",
    "    hardening_function=voce,\n",
    "    hardening_properties={\"tau_1\": 50.0, \"theta_0\": 1450.0, \"theta_1\": 95.0},\n",
    ")\n",
    "pore_model = Elastic(stiffness_tensor / 10**3)"
   ]
  },
  {
   "cell_type": "markdown",
   "id": "34fb12d6-3888-4949-a91b-51e4dc78716f",
   "metadata": {},
   "source": [
    "The constitutive models are associated with the correct phases by creating a regional field in the `Material`. The constitutive model field must be named `constitutive_model`."
   ]
  },
  {
   "cell_type": "code",
   "execution_count": null,
   "id": "33d20134-d580-4f61-8b17-b289b4cace86",
   "metadata": {},
   "outputs": [],
   "source": [
    "phases = [1, 2]\n",
    "models = [evp_model, pore_model]\n",
    "regional_fields = pd.DataFrame({\"phase\": phases, \"constitutive_model\": models})\n",
    "material = material.create_regional_fields(\n",
    "    region_label=\"phase\", regional_fields=regional_fields\n",
    ")"
   ]
  },
  {
   "cell_type": "markdown",
   "id": "04e7ebf8-c4b3-4f48-bd26-cbb0d1750040",
   "metadata": {},
   "source": [
    "Look at what we've added to the `Material`"
   ]
  },
  {
   "cell_type": "code",
   "execution_count": null,
   "id": "6b4ffc13-2970-4dc6-abf8-416adaa9a0ae",
   "metadata": {},
   "outputs": [],
   "source": [
    "material.get_fields()"
   ]
  },
  {
   "cell_type": "markdown",
   "id": "fa22d105-e39e-48a8-b80d-6e1a2eda4377",
   "metadata": {},
   "source": [
    "We will use the same `LoadSchedule` again. Note that no constitutive model is passed to `SmallStrainFFT`."
   ]
  },
  {
   "cell_type": "code",
   "execution_count": null,
   "id": "3644370e-e8f2-48c0-8c89-e7b945a6f109",
   "metadata": {},
   "outputs": [],
   "source": [
    "load_schedule = LoadSchedule.from_constant_uniaxial_strain_rate(\n",
    "    magnitude=1.0, direction=\"z\"\n",
    ")\n",
    "model = SmallStrainFFT(\n",
    "    load_schedule=load_schedule,\n",
    "    end_time=0.007,\n",
    "    initial_time_increment=0.001,\n",
    ")"
   ]
  },
  {
   "cell_type": "markdown",
   "id": "f0ea34e3-26c2-401d-8953-e8b9d51d7786",
   "metadata": {},
   "source": [
    "Run the model. We specify `phase_label=\"phase\"` to tell the model to look at the `Material` field called `phase` to determine which points belong to which constitutive model. We will ask for the slip system shear strains as well."
   ]
  },
  {
   "cell_type": "code",
   "execution_count": null,
   "id": "09dcacf7-ca4b-4f74-890a-01ed77c96f75",
   "metadata": {},
   "outputs": [],
   "source": [
    "num_output_times = 7\n",
    "output_times = np.linspace(start=0.001, stop=0.007, num=num_output_times)\n",
    "material = material.run(\n",
    "    model,\n",
    "    phase_label=\"phase\",\n",
    "    output_times=output_times,\n",
    "    output_variables=[\"slip_system_shear_strains\"],\n",
    ")"
   ]
  },
  {
   "cell_type": "markdown",
   "id": "e7c08273",
   "metadata": {},
   "source": [
    "Compare mean stress in pore and solid material"
   ]
  },
  {
   "cell_type": "code",
   "execution_count": null,
   "id": "710b1ff8",
   "metadata": {},
   "outputs": [],
   "source": [
    "indices = material.get_region_indices(\"phase\")\n",
    "pore_indices = indices[2]\n",
    "solid_indices = indices[1]\n",
    "stress = material.extract(\"stress\")\n",
    "pore_stress = stress[pore_indices]\n",
    "solid_stress = stress[solid_indices]\n",
    "mean_pore_stress = pore_stress.mean().stress_voigt\n",
    "mean_solid_stress = solid_stress.mean().stress_voigt\n",
    "print(f\"mean pore stress: {mean_pore_stress}\")\n",
    "print(f\"mean solid stress: {mean_solid_stress}\")"
   ]
  },
  {
   "cell_type": "markdown",
   "id": "8ac8920b",
   "metadata": {},
   "source": [
    "Plot stress field of half the material to show stress near the pore"
   ]
  },
  {
   "cell_type": "code",
   "execution_count": null,
   "id": "eaa7713e-dc97-49e2-8fd7-4ede13d46410",
   "metadata": {},
   "outputs": [],
   "source": [
    "material.crop_by_range(x_range=(-np.inf, material.sizes[0] / 2)).plot(\n",
    "    \"stress\", component=2\n",
    ")"
   ]
  },
  {
   "cell_type": "markdown",
   "id": "71c40ad5",
   "metadata": {},
   "source": [
    "Plot the mean stress-strain curve"
   ]
  },
  {
   "cell_type": "code",
   "execution_count": null,
   "id": "4f15b712",
   "metadata": {},
   "outputs": [],
   "source": [
    "stress_solid = [0]\n",
    "stress_pore = [0]\n",
    "strain_solid = [0]\n",
    "strain_pore = [0]\n",
    "for i in range(len(output_times)):\n",
    "    stress = material.state[f\"output_time_{i}\"][\"stress\"]\n",
    "    strain = material.state[f\"output_time_{i}\"][\"strain\"]\n",
    "    stress_solid.append(stress[solid_indices].mean().components[2])\n",
    "    stress_pore.append(stress[pore_indices].mean().components[2])\n",
    "    strain_solid.append(strain[solid_indices].mean().components[2])\n",
    "    strain_pore.append(strain[pore_indices].mean().components[2])\n",
    "fig, ax = plt.subplots()\n",
    "ax.plot(strain_solid, stress_solid, label=\"solid\")\n",
    "ax.plot(strain_pore, stress_pore, label=\"pore\")\n",
    "ax.legend()\n",
    "ax.set_xlabel(\"axial strain\")\n",
    "ax.set_ylabel(\"axial stress [MPa]\")"
   ]
  },
  {
   "cell_type": "markdown",
   "id": "cd780378",
   "metadata": {},
   "source": [
    "Look at the slip system shear strains. Note that the values default to zero in the pore since this is not an available state variable in `Elastic` models."
   ]
  },
  {
   "cell_type": "code",
   "execution_count": null,
   "id": "0e12242b",
   "metadata": {},
   "outputs": [],
   "source": [
    "slip_system_shear_strains = material.extract(\"slip_system_shear_strains\")\n",
    "print(slip_system_shear_strains[solid_indices])\n",
    "print(slip_system_shear_strains[pore_indices])"
   ]
  },
  {
   "cell_type": "markdown",
   "id": "b019b58c",
   "metadata": {},
   "source": [
    "**Additional notes**"
   ]
  },
  {
   "cell_type": "markdown",
   "id": "0967556a",
   "metadata": {},
   "source": [
    "There are also `LoadSchedule` constructors for strain- and stress-based cyclic loading. Each one requires an amplitude, a frequency, and a stress mask."
   ]
  },
  {
   "cell_type": "code",
   "execution_count": null,
   "id": "509acda2",
   "metadata": {},
   "outputs": [],
   "source": [
    "strain_amplitude = Order2SymmetricTensor.from_strain_voigt([0.01, 0, 0, 0, 0, 0])\n",
    "stress_mask = np.array([0, 1, 1, 1, 1, 1])\n",
    "load_schedule = LoadSchedule.from_cyclic_strain(\n",
    "    strain_amplitude=strain_amplitude, frequency=1.0, stress_mask=stress_mask\n",
    ")"
   ]
  },
  {
   "cell_type": "code",
   "execution_count": null,
   "id": "8b1f8b03",
   "metadata": {},
   "outputs": [],
   "source": [
    "stress_amplitude = Order2SymmetricTensor.from_stress_voigt([0.01, 0, 0, 0, 0, 0])\n",
    "stress_mask = np.ones(6)\n",
    "load_schedule = LoadSchedule.from_cyclic_stress(\n",
    "    stress_amplitude=stress_amplitude, frequency=1.0, stress_mask=stress_mask\n",
    ")"
   ]
  },
  {
   "cell_type": "markdown",
   "id": "0b22e171",
   "metadata": {},
   "source": [
    "You can also create your own `LoadSchedule`. You need to provide:\n",
    "* `strain_increment`: a function that takes the previous time (`t`) and the current time increment (`dt`) as inputs and returns the strain increment as an `Order2SymmetricTensor` (i.e., `strain_increment(t, dt) -> Order2SymmetricTensor`)\n",
    "* `stress_increment`: a function that takes `t` and `dt` as inputs and returns the stress increment as an `Order2SymmetricTensor`\n",
    "* `stress`: a function that takes `t` and `dt` as inputs and returns the new stress as an `Order2SymmetricTensor`\n",
    "* `stress_mask`: same as the definition for all of the `LoadSchedule`s used in this example.\n",
    "\n",
    "Create an instance of your load schedule: `load_schedule = LoadSchedule(strain_increment, stress_increment, stress, stress_mask)`"
   ]
  },
  {
   "cell_type": "markdown",
   "id": "afcea362-aed1-4858-aabc-d847f40ff081",
   "metadata": {},
   "source": [
    "Other notes:\n",
    "* When constitutive models are specified by phase (or another field in the `Material`), the model assumes there is a regional field associated with the phase called \"constitutive_model\".\n",
    "* The model (`SmallStrainFFT`) increments the global stress and strain, uses conjugate gradients + FFTs [1,2] to estimate the global strain field given a guess global stress field, and asks the constitutive model for the updated global stress and consistent tangent fields.\n",
    "* When phase-dependent constitutive models are specified, `SmallStrainFFT` uses a \"utility\" constitutive model class called `Multiphase` (see `materialite.models.small_strain_fft.multiphase`). `Multiphase` pulls off the material points corresponding to each constitutive model, calls the constitutive models, and reconstructs the global stress and consistent tangent fields from the output of each constitutive model.\n",
    "* There are also `LoadSchedule` constructors for cyclic loading. \n",
    "\n",
    "[1] T.W.J. de Geus, J. Vondrejc, J. Zeman, R.H.J. Peerlings, M.G.D. Geers. Finite strain FFT-based non-linear solvers made simple. Computer Methods in Applied Mechanics and Engineering, 2017, 318:412–430. doi: 10.1016/j.cma.2016.12.032, arXiv: 1603.08893\n",
    "\n",
    "[2] J. Zeman, T.W.J. de Geus, J. Vondrejc, R.H.J. Peerlings, M.G.D. Geers. A finite element perspective on nonlinear FFT-based micromechanical simulations. International Journal for Numerical Methods in Engineering, 2017, 111(10):903–926. doi: 10.1002/nme.5481, arXiv: 1601.05970"
   ]
  }
 ],
 "metadata": {
  "kernelspec": {
   "display_name": "materialize",
   "language": "python",
   "name": "python3"
  },
  "language_info": {
   "codemirror_mode": {
    "name": "ipython",
    "version": 3
   },
   "file_extension": ".py",
   "mimetype": "text/x-python",
   "name": "python",
   "nbconvert_exporter": "python",
   "pygments_lexer": "ipython3",
   "version": "3.10.12"
  }
 },
 "nbformat": 4,
 "nbformat_minor": 5
}
