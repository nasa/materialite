{
 "cells": [
  {
   "cell_type": "markdown",
   "id": "69d86fe4",
   "metadata": {},
   "source": [
    "# AM Microstucture"
   ]
  },
  {
   "cell_type": "code",
   "execution_count": null,
   "id": "b22c8304",
   "metadata": {
    "tags": [
     "remove-cell"
    ]
   },
   "outputs": [],
   "source": [
    "import pyvista as pv\n",
    "\n",
    "pv.set_jupyter_backend(\"static\")\n",
    "\n",
    "%load_ext autoreload\n",
    "%autoreload 2"
   ]
  },
  {
   "cell_type": "code",
   "execution_count": null,
   "id": "cc020c92-2b7a-4cc6-af53-40a814b63626",
   "metadata": {},
   "outputs": [],
   "source": [
    "from materialite.models.convolution_microstructure_model import (\n",
    "    ConvolutionMicrostructureGPUModel,\n",
    "    LaserBeam,\n",
    ")\n",
    "from materialite import get_ipf_colors\n",
    "from materialite.tensor import Orientation\n",
    "from materialite import Material\n",
    "import numpy as np\n",
    "import pandas as pd"
   ]
  },
  {
   "cell_type": "markdown",
   "id": "3a3ed0ee-ea95-4915-9525-03654c4cd2ed",
   "metadata": {},
   "source": [
    "Materialite implements a method similar to that of (Rodgers et al. 2021) alongside the convolution method for simulating the microstructure field resulting from laser heating. This model currently requires a GPU and CuPy/CUDA and will raise an error if a compatible device is not available.\n",
    "\n",
    "First, a material has to be created. Next, orientations and a related \"spin\" field (which typically represents grain ID values) need to be formed. The orientation reflects the unique crystallographic texture associated with each spin value.  "
   ]
  },
  {
   "cell_type": "code",
   "execution_count": null,
   "id": "dfc9719e-0066-418f-acdf-65b781539c47",
   "metadata": {},
   "outputs": [],
   "source": [
    "material = Material(dimensions=[400, 50, 40], spacing=[5e-6, 5e-6, 5e-6])\n",
    "material = material.create_uniform_field(\"temperature\", 300.0)\n",
    "\n",
    "num_spins = 10000\n",
    "orientations = Orientation.random(num_spins)\n",
    "orientations[0] = Orientation.from_euler_angles([0, 0, 0])\n",
    "unique_spins = np.arange(num_spins)\n",
    "region_field = pd.DataFrame({\"spin\": unique_spins, \"orientation\": orientations})\n",
    "material = material.create_random_integer_field(\n",
    "    \"spin\", low=1, high=num_spins\n",
    ").create_regional_fields(region_label=\"spin\", regional_fields=region_field)"
   ]
  },
  {
   "cell_type": "markdown",
   "id": "7bad775c-aba0-4d6c-9aac-e3d7a381e42b",
   "metadata": {},
   "source": [
    "Additionally, a laser path needs to be created:"
   ]
  },
  {
   "cell_type": "code",
   "execution_count": null,
   "id": "80c685df-021c-4fb3-8c53-463ae2682ca6",
   "metadata": {},
   "outputs": [],
   "source": [
    "laser = LaserBeam(\n",
    "    material,\n",
    "    laser_power=200,\n",
    "    laser_velocity=1.0,\n",
    "    hatch_spacing=20,\n",
    "    beam_x_radius=50.0e-6,\n",
    "    beam_y_radius=50.0e-6,\n",
    "    beam_z_radius=30.0e-6,\n",
    "    num_layers=1,\n",
    "    scan_offset_start=-10,\n",
    "    hatch_offset_start=25,\n",
    "    hatch_offset_end=-25,\n",
    "    z_start=40,\n",
    "    layer_thickness=8,\n",
    "    time_between_scans=0.001,\n",
    "    time_between_layers=0.0,\n",
    "    rotation_angle_increment=np.deg2rad(67),\n",
    ")\n",
    "\n",
    "laser.create_build_path(material, adjust_domain=True, domain_epsilon=5e-6)\n",
    "laser.plot_beam_path()"
   ]
  },
  {
   "cell_type": "markdown",
   "id": "fb872967-c004-4b16-a0da-7dfa0fa1f7e8",
   "metadata": {},
   "source": [
    "The microstructure model takes in similar parameters as the temperature field models:"
   ]
  },
  {
   "cell_type": "code",
   "execution_count": null,
   "id": "7a7ad75e-c524-4526-ae89-fc656694873c",
   "metadata": {},
   "outputs": [],
   "source": [
    "density = 4200.0\n",
    "specific_heat_capacity = 656.2\n",
    "thermal_conductivity = 18.72\n",
    "volumetric_specific_heat = specific_heat_capacity * density\n",
    "thermal_diffusivity = thermal_conductivity / volumetric_specific_heat\n",
    "\n",
    "thermophysical_props = {\n",
    "    \"thermal_diffusivity\": thermal_diffusivity,\n",
    "    \"volumetric_specific_heat\": volumetric_specific_heat,\n",
    "    \"power_absorptivity\": 0.48,\n",
    "    \"melt_temperature\": 1928.0,\n",
    "}\n",
    "\n",
    "enthalpy_props = {\n",
    "    \"vapor_temperature\": 3000.0,\n",
    "    \"heat_of_fusion\": 370000.0 * density,\n",
    "    \"heat_of_vapor\": 10000000 * density,\n",
    "    \"melt_range\": 25.0,\n",
    "    \"vapor_range\": 10.0,\n",
    "}\n",
    "\n",
    "model = ConvolutionMicrostructureGPUModel(\n",
    "    save_frequency=50,\n",
    "    time_steps=1000,\n",
    "    thermophysical_props=thermophysical_props,\n",
    "    enthalpy_props=enthalpy_props,\n",
    "    adjust_xy_radii_multiple=3,\n",
    "    adjust_xy_extra_voxels=0,\n",
    "    z_range=60,\n",
    "    orientations=orientations,\n",
    ")"
   ]
  },
  {
   "cell_type": "code",
   "execution_count": null,
   "id": "7dadccc0-0b42-4ae9-805a-b9ae703aa1cd",
   "metadata": {},
   "outputs": [],
   "source": [
    "new_material = model.run(material, laser, \"temperature\", \"spin\")"
   ]
  },
  {
   "cell_type": "code",
   "execution_count": null,
   "id": "1f13a787-c9b8-4fe2-bd28-fe6aaeb0e0c7",
   "metadata": {},
   "outputs": [],
   "source": [
    "new_material.plot(\"spin\")"
   ]
  },
  {
   "cell_type": "markdown",
   "id": "c942fa93-de72-422d-b429-2c011e8259e7",
   "metadata": {},
   "source": [
    "The IPF map can be plotted as well:"
   ]
  },
  {
   "cell_type": "code",
   "execution_count": null,
   "id": "67e5eaab-de57-40b4-b6d1-8cff3ed2fc46",
   "metadata": {},
   "outputs": [],
   "source": [
    "ipf_colors = get_ipf_colors(\n",
    "    specimen_frame_direction=[0, 0, 1], orientations=orientations, unit_cell=\"fcc\"\n",
    ")\n",
    "ipf_colors[0] = [0, 0, 0]\n",
    "ipf_region_field = pd.DataFrame(\n",
    "    {\"spin\": unique_spins, \"ipf_color\": list(ipf_colors)}\n",
    ")  # using the same unique_spins from before\n",
    "new_material.create_regional_fields(\"spin\", ipf_region_field).plot(\n",
    "    \"ipf_color\", kind=\"ipf_map\"\n",
    ")"
   ]
  }
 ],
 "metadata": {
  "kernelspec": {
   "display_name": "materialite",
   "language": "python",
   "name": "python3"
  },
  "language_info": {
   "codemirror_mode": {
    "name": "ipython",
    "version": 3
   },
   "file_extension": ".py",
   "mimetype": "text/x-python",
   "name": "python",
   "nbconvert_exporter": "python",
   "pygments_lexer": "ipython3",
   "version": "3.13.5"
  }
 },
 "nbformat": 4,
 "nbformat_minor": 5
}
