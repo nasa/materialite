{
 "cells": [
  {
   "cell_type": "markdown",
   "id": "2cabb20c",
   "metadata": {},
   "source": [
    "# Material Basics"
   ]
  },
  {
   "cell_type": "code",
   "execution_count": null,
   "id": "3e8c86fb",
   "metadata": {
    "tags": [
     "remove-cell"
    ]
   },
   "outputs": [],
   "source": [
    "import pyvista as pv\n",
    "\n",
    "pv.set_jupyter_backend(\"static\")\n",
    "\n",
    "%load_ext autoreload\n",
    "%autoreload 2"
   ]
  },
  {
   "cell_type": "markdown",
   "id": "0c4b9376",
   "metadata": {},
   "source": [
    "`Material` is the core object in Materialite. It consists of a regular 3-D grid of points and fields defined at each of those points. By default, the grid is $16\\times16\\times16$."
   ]
  },
  {
   "cell_type": "code",
   "execution_count": null,
   "id": "71671fbd",
   "metadata": {},
   "outputs": [],
   "source": [
    "from materialite import Material\n",
    "\n",
    "material = Material()"
   ]
  },
  {
   "cell_type": "markdown",
   "id": "4eb08eb9",
   "metadata": {},
   "source": [
    "Four attributes provide geometrical information about the `Material`:\n",
    "- `dimensions`: total number of points in each direction. Default: 16 points in each direction.\n",
    "- `spacing`: spacing between points in each direction. Default: 1 unit in each direction.\n",
    "- `origin`: coordinates of the first point. Default: `[0, 0, 0]`\n",
    "- `sizes`: total distance between the first and last point in each direction. Default: `[15, 15, 15]` (inferred from default values of the other three atributes)"
   ]
  },
  {
   "cell_type": "code",
   "execution_count": null,
   "id": "6ce6aa88",
   "metadata": {},
   "outputs": [],
   "source": [
    "print(f\"dimensions: {material.dimensions}\")\n",
    "print(f\"spacing: {material.spacing}\")\n",
    "print(f\"origin: {material.origin}\")\n",
    "print(f\"sizes: {material.sizes}\")"
   ]
  },
  {
   "cell_type": "markdown",
   "id": "361ae286",
   "metadata": {},
   "source": [
    "The fields initially consist only of geometrical information at each point. `x`, `y`, and `z` give the actual position of each point. `x_id`, `y_id`, and `z_id` are integer values giving the order of the points along each axis. Corresponding values (e.g., `x` and `x_id`) are identical when `origin = [0, 0, 0]` and `spacing = [1, 1, 1]`. Note that the points us `xyz` ordering (i.e., `z` changes fastest, then `y`, then `x`)."
   ]
  },
  {
   "cell_type": "code",
   "execution_count": null,
   "id": "8539ec8e",
   "metadata": {},
   "outputs": [],
   "source": [
    "material.get_fields()"
   ]
  },
  {
   "cell_type": "markdown",
   "id": "e9c80658",
   "metadata": {},
   "source": [
    "We can also create a `Material` with specified geometrical properties."
   ]
  },
  {
   "cell_type": "code",
   "execution_count": null,
   "id": "978e68b3",
   "metadata": {},
   "outputs": [],
   "source": [
    "Material(dimensions=[8, 10, 12], spacing=[5, 5, 5], origin=[0, 1, 2]).get_fields()"
   ]
  },
  {
   "cell_type": "markdown",
   "id": "12e3e9c0",
   "metadata": {},
   "source": [
    "**Creating fields**\n",
    "\n",
    "To run models, we will typically need to add fields describing things like phase or grain ID values, material properties, etc. Here, we will look at several ways to add a field."
   ]
  },
  {
   "cell_type": "markdown",
   "id": "48f12d83",
   "metadata": {},
   "source": [
    "*create_uniform_field*\n",
    "\n",
    "Create a uniform field (i.e., has the same value at all points). Here, set the phase ID equal to 1."
   ]
  },
  {
   "cell_type": "code",
   "execution_count": null,
   "id": "60357815",
   "metadata": {},
   "outputs": [],
   "source": [
    "material = material.create_uniform_field(label=\"phase\", value=1)\n",
    "material.get_fields()"
   ]
  },
  {
   "cell_type": "markdown",
   "id": "6df3f634",
   "metadata": {},
   "source": [
    "Note that, similar to a Pandas `DataFrame`, any method that modifies a `Material` returns a new `Material`."
   ]
  },
  {
   "cell_type": "markdown",
   "id": "2dd4ab12",
   "metadata": {},
   "source": [
    "We can look at a particular field using the `extract` method."
   ]
  },
  {
   "cell_type": "code",
   "execution_count": null,
   "id": "4602a277",
   "metadata": {},
   "outputs": [],
   "source": [
    "material.extract(\"phase\")"
   ]
  },
  {
   "cell_type": "markdown",
   "id": "678e11bd",
   "metadata": {},
   "source": [
    "*create_fields*\n",
    "\n",
    "We can also add fields with different values at all points. Make sure that the values are ordered correctly based on the ordering of points in the fields. The new fields should be a dictionary."
   ]
  },
  {
   "cell_type": "code",
   "execution_count": null,
   "id": "36eb62b8",
   "metadata": {},
   "outputs": [],
   "source": [
    "import numpy as np\n",
    "\n",
    "data = np.arange(material.num_points)\n",
    "new_fields = {\"field1\": data, \"field2\": data * 10}\n",
    "material = material.create_fields(fields=new_fields)\n",
    "print(f\"field 1: {material.extract('field1')}\")\n",
    "print(f\"field 2: {material.extract('field2')}\")"
   ]
  },
  {
   "cell_type": "markdown",
   "id": "b68e5f3d",
   "metadata": {},
   "source": [
    "Some models may require you to initialize a field of random integers."
   ]
  },
  {
   "cell_type": "code",
   "execution_count": null,
   "id": "b6669c03",
   "metadata": {},
   "outputs": [],
   "source": [
    "material = material.create_random_integer_field(\n",
    "    label=\"random_integer\", low=100, high=200\n",
    ")\n",
    "material.extract(\"random_integer\")"
   ]
  },
  {
   "cell_type": "markdown",
   "id": "ef160070",
   "metadata": {},
   "source": [
    "Like Numpy methods that generate random numbers, the `high` value is excluded."
   ]
  },
  {
   "cell_type": "markdown",
   "id": "ed1bb87d",
   "metadata": {},
   "source": [
    "*create_voronoi*\n",
    "\n",
    "We can create a Voronoi tesselation, typically to obtain an equiaxed grain structure. The tesselation can be constrained to be periodic."
   ]
  },
  {
   "cell_type": "code",
   "execution_count": null,
   "id": "f3d11215",
   "metadata": {},
   "outputs": [],
   "source": [
    "rng = np.random.default_rng(seed=12345)\n",
    "material = material.create_voronoi(\n",
    "    num_regions=10, label=\"grain\", rng=rng, periodic=False\n",
    ")\n",
    "material.extract(\"grain\")"
   ]
  },
  {
   "cell_type": "markdown",
   "id": "feb0f68d",
   "metadata": {},
   "source": [
    "This gives us a Voronoi tesselation of 10 grains with ID values from 0 to 9. We can also visualize the result."
   ]
  },
  {
   "cell_type": "code",
   "execution_count": null,
   "id": "ae2bd7bc",
   "metadata": {},
   "outputs": [],
   "source": [
    "material.plot(\"grain\")"
   ]
  },
  {
   "cell_type": "markdown",
   "id": "7aa77be6",
   "metadata": {},
   "source": [
    "*create_regional_fields*\n",
    "\n",
    "This method allows you to assign fields according to the region that a point belongs to. Examples of regions include grains, phases, etc. Regional fields are useful for assigning things like material properties.\n",
    "\n",
    "The syntax is similar to `create_fields`. For regional fields, we provide a dictionary (or `DataFrame`) where one key-value pair contains the unique values of the region (in this case, grains). The other key-value pair(s) are the field names and values corresponding to the region IDs. For more on regional fields, see [Regional Fields](regional_fields).\n",
    "\n",
    "In this example, we assign each grain a stiffness equal to $100$ times the grain ID value."
   ]
  },
  {
   "cell_type": "code",
   "execution_count": null,
   "id": "5107e3e6",
   "metadata": {},
   "outputs": [],
   "source": [
    "unique_grains = np.arange(10)\n",
    "grainwise_stiffnesses = np.arange(10) * 100\n",
    "regional_fields = {\"grain\": unique_grains, \"stiffness\": grainwise_stiffnesses}\n",
    "material = material.create_regional_fields(\n",
    "    region_label=\"grain\", regional_fields=regional_fields\n",
    ")\n",
    "material.get_fields()"
   ]
  },
  {
   "cell_type": "markdown",
   "id": "4ec8dbcb",
   "metadata": {},
   "source": [
    "*assign_random_orientations*\n",
    "\n",
    "This method assigns a random crystallographic orientation to each of the grains. A new field called \"orientation\" that contains a Materialite `Orientation` object (more on this in [Tensors](tensors), [Crystallography](crystallography), and [IPF Coloring](ipf_example)) is created. The `Orientation` will be identical for all points that belong to a particular grain. This is essentially a utility function for creating a particular kind of regional field."
   ]
  },
  {
   "cell_type": "code",
   "execution_count": null,
   "id": "54f9652e",
   "metadata": {},
   "outputs": [],
   "source": [
    "material = material.assign_random_orientations(\n",
    "    region_label=\"grain\", orientation_label=\"orientation\"\n",
    ")\n",
    "\n",
    "\n",
    "material.extract(\"orientation\")"
   ]
  },
  {
   "cell_type": "markdown",
   "id": "c08ccf5f",
   "metadata": {},
   "source": [
    "We can also delete fields."
   ]
  },
  {
   "cell_type": "code",
   "execution_count": null,
   "id": "7daa24d7",
   "metadata": {},
   "outputs": [],
   "source": [
    "material = material.remove_field(\"field1\")\n",
    "material.get_fields()"
   ]
  }
 ],
 "metadata": {
  "kernelspec": {
   "display_name": "materialize",
   "language": "python",
   "name": "python3"
  },
  "language_info": {
   "codemirror_mode": {
    "name": "ipython",
    "version": 3
   },
   "file_extension": ".py",
   "mimetype": "text/x-python",
   "name": "python",
   "nbconvert_exporter": "python",
   "pygments_lexer": "ipython3",
   "version": "3.10.12"
  }
 },
 "nbformat": 4,
 "nbformat_minor": 5
}
