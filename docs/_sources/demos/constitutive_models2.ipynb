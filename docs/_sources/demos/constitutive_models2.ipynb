{
 "cells": [
  {
   "cell_type": "code",
   "execution_count": null,
   "id": "c3a8d37c",
   "metadata": {
    "tags": [
     "remove-cell"
    ]
   },
   "outputs": [],
   "source": [
    "import pyvista as pv\n",
    "\n",
    "pv.set_jupyter_backend(\"static\")\n",
    "\n",
    "%load_ext autoreload\n",
    "%autoreload 2"
   ]
  },
  {
   "cell_type": "markdown",
   "id": "4d474703",
   "metadata": {},
   "source": [
    "# Constitutive Models: Deep Dive"
   ]
  },
  {
   "cell_type": "code",
   "execution_count": null,
   "id": "c27aa4d1",
   "metadata": {},
   "outputs": [],
   "source": [
    "import logging\n",
    "logging.basicConfig()\n",
    "\n",
    "import numpy as np\n",
    "import pandas as pd\n",
    "import matplotlib.pyplot as plt\n",
    "\n",
    "from materialite import (\n",
    "    Material,\n",
    "    Box,\n",
    "    Scalar,\n",
    "    Order2SymmetricTensor,\n",
    "    Order4SymmetricTensor,\n",
    "    Orientation,\n",
    "    SlipSystem,\n",
    ")\n",
    "from materialite.models.small_strain_fft import (\n",
    "    SmallStrainFFT,\n",
    "    LoadSchedule,\n",
    "    Elastic,\n",
    "    ElasticViscoplastic,\n",
    "    voce,\n",
    ")"
   ]
  },
  {
   "cell_type": "markdown",
   "id": "29c9bfd6",
   "metadata": {},
   "source": [
    "Here, we will take a deeper dive into some of the capabilities of `SmallStrainFFT`, including output quantities, postprocessing, and simulation details. Start with the `Material` from Example 3 in the constitutive models demo."
   ]
  },
  {
   "cell_type": "code",
   "execution_count": null,
   "id": "8f92d729",
   "metadata": {},
   "outputs": [],
   "source": [
    "num_grains = 30\n",
    "grains_list = np.arange(num_grains)\n",
    "rng = np.random.default_rng(1)\n",
    "\n",
    "material = (\n",
    "    Material(dimensions=[16, 16, 16])\n",
    "    .create_voronoi(num_grains, periodic=True, label=\"grain\", rng=rng)\n",
    "    .assign_random_orientations(\n",
    "        region_label=\"grain\", orientation_label=\"orientation\", rng=rng\n",
    "    )\n",
    ")"
   ]
  },
  {
   "cell_type": "markdown",
   "id": "b178e6fe",
   "metadata": {},
   "source": [
    "**Example 1: Visualizing different output quantities**\n",
    "\n",
    "Run a uniaxial tension simulation out to 1% strain."
   ]
  },
  {
   "cell_type": "code",
   "execution_count": null,
   "id": "74255242",
   "metadata": {},
   "outputs": [],
   "source": [
    "stiffness_tensor = Order4SymmetricTensor.from_cubic_constants(\n",
    "    C11=243300, C12=156700, C44=117800\n",
    ")\n",
    "constitutive_model = ElasticViscoplastic(\n",
    "    stiffness=stiffness_tensor,\n",
    "    slip_systems=SlipSystem.octahedral(),\n",
    "    reference_slip_rate=1.0,\n",
    "    rate_exponent=10.0,\n",
    "    slip_resistance=143.0,\n",
    "    hardening_function=voce,\n",
    "    hardening_properties={\"tau_1\": 50.0, \"theta_0\": 1450.0, \"theta_1\": 95.0},\n",
    ")\n",
    "load_schedule = LoadSchedule.from_constant_uniaxial_strain_rate(\n",
    "    magnitude=1.0, direction=\"z\"\n",
    ")\n",
    "model = SmallStrainFFT(\n",
    "    load_schedule=load_schedule,\n",
    "    end_time=0.01,\n",
    "    initial_time_increment=0.001,\n",
    "    constitutive_model=constitutive_model,\n",
    ")\n",
    "\n",
    "output_times = np.linspace(start=0.001, stop=0.01, num=10)\n",
    "material_1 = material.run(\n",
    "    model,\n",
    "    output_times=output_times,\n",
    "    output_variables=[\n",
    "        \"slip_system_shear_strains\",\n",
    "        \"plastic_strains\",\n",
    "        \"slip_resistances\",\n",
    "    ],\n",
    ")"
   ]
  },
  {
   "cell_type": "markdown",
   "id": "6b5425eb",
   "metadata": {},
   "source": [
    "The material will now have fields called \"stress\", \"strain\", \"plastic_strains\", \"slip_system_shear_strains\", and \"slip_resistances\". Let's plot some of these quantities.\n",
    "\n",
    "Mean stress-strain curve in the loading direction:"
   ]
  },
  {
   "cell_type": "code",
   "execution_count": null,
   "id": "7be4dc7b",
   "metadata": {},
   "outputs": [],
   "source": [
    "stress = material_1.extract(\"stress\")\n",
    "strain = material_1.extract(\"strain\")\n",
    "fig, ax = plt.subplots()\n",
    "ax.plot(strain.mean(\"p\").components[:, 2], stress.mean(\"p\").components[:, 2])\n",
    "ax.set_xlabel(\"Axial strain [-]\")\n",
    "ax.set_ylabel(\"Axial stress [MPa]\")"
   ]
  },
  {
   "cell_type": "markdown",
   "id": "65410a13",
   "metadata": {},
   "source": [
    "Mean plastic strain in the loading direction versus total strain:"
   ]
  },
  {
   "cell_type": "code",
   "execution_count": null,
   "id": "c25f15e2",
   "metadata": {},
   "outputs": [],
   "source": [
    "plastic_strain = material_1.extract(\"plastic_strains\")\n",
    "strain = material_1.extract(\"strain\")\n",
    "mean_strain = strain.mean(\"p\").components[:, 2]\n",
    "fig, ax = plt.subplots()\n",
    "ax.plot(mean_strain, plastic_strain.mean(\"p\").components[:, 2])\n",
    "ax.set_xlabel(\"Axial strain [-]\")\n",
    "ax.set_ylabel(\"Axial plastic strain [-]\")"
   ]
  },
  {
   "cell_type": "markdown",
   "id": "654c43fc",
   "metadata": {},
   "source": [
    "Pointwise equivalent plastic strain at the end of the simulation:"
   ]
  },
  {
   "cell_type": "code",
   "execution_count": null,
   "id": "0805ad44",
   "metadata": {},
   "outputs": [],
   "source": [
    "eq_plastic_strain = plastic_strain.dev.norm * np.sqrt(2 / 3)\n",
    "material.create_fields({\"eq_plastic_strain\": eq_plastic_strain}).plot(\n",
    "    \"eq_plastic_strain\"\n",
    ")"
   ]
  },
  {
   "cell_type": "markdown",
   "id": "ebb0f87f",
   "metadata": {},
   "source": [
    "Pointwise CRSS. Since the hardening law is a function of only the accumulated slip, the CRSS is the same on all slip systems at a given point. Here, we take the max over the slip systems, but taking the mean would yield the same result in this case."
   ]
  },
  {
   "cell_type": "code",
   "execution_count": null,
   "id": "5ea8cdf9",
   "metadata": {},
   "outputs": [],
   "source": [
    "material_1.create_fields(\n",
    "    {\"max_slip_resistance\": material_1.extract(\"slip_resistances\").max(\"s\")}\n",
    ").plot(\"max_slip_resistance\")"
   ]
  },
  {
   "cell_type": "markdown",
   "id": "d10d9f0f",
   "metadata": {},
   "source": [
    "We can do the same with the max slip across the 12 slip systems at each point."
   ]
  },
  {
   "cell_type": "code",
   "execution_count": null,
   "id": "5571f52f",
   "metadata": {},
   "outputs": [],
   "source": [
    "material_1.create_fields(\n",
    "    {\"max_slip\": material_1.extract(\"slip_system_shear_strains\").abs.max(\"s\")}\n",
    ").plot(\"max_slip\", color_lims=(0.002, 0.02))"
   ]
  },
  {
   "cell_type": "markdown",
   "id": "d51c4962",
   "metadata": {},
   "source": [
    "We can also calculate and plot grain-average quantities. The method `get_region_indices` returns a dictionary whose keys are the region IDs (in this case grain IDs) and whose values are the indices in `material.get_fields()` corresponding to each region ID."
   ]
  },
  {
   "cell_type": "code",
   "execution_count": null,
   "id": "d69a955e",
   "metadata": {},
   "outputs": [],
   "source": [
    "grain_indices_lookup = material.get_region_indices(\"grain\")\n",
    "grain_avg_eq_stresses = Scalar.from_list(\n",
    "    [\n",
    "        stress[indices].mean().dev.norm * np.sqrt(1.5)\n",
    "        for indices in grain_indices_lookup.values()\n",
    "    ]\n",
    ")\n",
    "regional_field = {\n",
    "    \"grain\": grain_indices_lookup.keys(),\n",
    "    \"grain_avg_eq_stress\": grain_avg_eq_stresses,\n",
    "}\n",
    "material_1.create_regional_fields(\n",
    "    region_label=\"grain\", regional_fields=regional_field\n",
    ").plot(\"grain_avg_eq_stress\")"
   ]
  },
  {
   "cell_type": "markdown",
   "id": "e6e036e8",
   "metadata": {},
   "source": [
    "**Example 2: Cyclic loading**\n",
    "\n",
    "Here, we apply one strain-controlled cycle with a frequency of 1 Hz. We request stress and strain output every 1/8 of a cycle. Other desired state variables could be passed to `material.run(...)` as in Example 1. Requesting the `INFO` outputs allows us to track the automatic time incrementation. The time increment is doubled when the material model converges in 10 or fewer iterations. The time increment is reduced when the material model fails to converge, or the time increment must be shortened to match a requested output time."
   ]
  },
  {
   "cell_type": "code",
   "execution_count": null,
   "id": "c534cb81",
   "metadata": {},
   "outputs": [],
   "source": [
    "strain_amplitude = Order2SymmetricTensor.from_strain_voigt([0.01, 0, 0, 0, 0, 0])\n",
    "stress_mask = np.array([0, 1, 1, 1, 1, 1])\n",
    "load_schedule = LoadSchedule.from_cyclic_strain(\n",
    "    strain_amplitude=strain_amplitude, frequency=1.0, stress_mask=stress_mask\n",
    ")\n",
    "\n",
    "model = SmallStrainFFT(\n",
    "    load_schedule=load_schedule,\n",
    "    end_time=1.0,\n",
    "    initial_time_increment=0.01,\n",
    "    max_time_increment=0.125,\n",
    "    constitutive_model=constitutive_model,\n",
    ")\n",
    "num_output_times = 8\n",
    "output_times = np.linspace(start=0.125, stop=1.0, num=num_output_times)\n",
    "\n",
    "logger = logging.getLogger()\n",
    "logger.setLevel(logging.INFO)\n",
    "material_2 = material.run(model, output_times=output_times)\n",
    "logger.setLevel(logging.WARNING)"
   ]
  },
  {
   "cell_type": "markdown",
   "id": "aa1dc08d",
   "metadata": {},
   "source": [
    "Plot the axial strain over time to verify the cyclic loading was applied correctly."
   ]
  },
  {
   "cell_type": "code",
   "execution_count": null,
   "id": "692a1319",
   "metadata": {},
   "outputs": [],
   "source": [
    "strain = material_2.extract(\"strain\")\n",
    "mean_strain = strain.mean(\"p\").components[:, 0]\n",
    "fig, ax = plt.subplots()\n",
    "ax.plot(output_times, mean_strain)\n",
    "ax.set_xlabel(\"Time [s]\")\n",
    "ax.set_ylabel(\"Axial strain [-]\")"
   ]
  },
  {
   "cell_type": "markdown",
   "id": "3af26a22",
   "metadata": {},
   "source": [
    "Plot the axial stress-strain curve. Note that the stress relaxes slightly due to the viscoplastic material model and low strain rate at the maximum and minimum of the cycle. The stress relaxation can be reduced by increasing the rate exponent to more closely approximate rate-independent behavior."
   ]
  },
  {
   "cell_type": "code",
   "execution_count": null,
   "id": "dfa4b5d4",
   "metadata": {},
   "outputs": [],
   "source": [
    "stress = material_2.extract(\"stress\")\n",
    "mean_stress = stress.mean(\"p\").components[:, 0]\n",
    "fig, ax = plt.subplots()\n",
    "ax.plot(mean_strain, mean_stress)\n",
    "ax.set_xlabel(\"Axial strain [-]\")\n",
    "ax.set_ylabel(\"Axial stress [MPa]\")"
   ]
  },
  {
   "cell_type": "markdown",
   "id": "2a79df81",
   "metadata": {},
   "source": [
    "**Example 3: Breaking periodic boundary conditions**\n",
    "\n",
    "Spectral solution methods like the one in `SmallStrainFFT` inherently have periodic boundary conditions. Adding a zero-stiffness phase to the surfaces of the domain allows for stress-free boundary conditions to instead be applied to the surfaces of the solid material. We accomplish this using a `Box` feature and adding it to the `Material`. The `Box` feature assigns a phase ID of 0 to the first 5 layers of points in the x and y directions, starting from the origin.\n",
    "\n",
    "Note that, if you want to do anything with grain-average quantities later, a new grain ID value (different from all of the \"real\" grains) should also be assigned to the `Box`es. Here, we choose -1. We also need to add a corresponding `Orientation` to the regional field that assigned `Orientation`s to each grain. The `Orientation` is arbitrary; we use the identity here for convenience."
   ]
  },
  {
   "cell_type": "code",
   "execution_count": null,
   "id": "7d539416",
   "metadata": {},
   "outputs": [],
   "source": [
    "zero_stiffness_phase = Box(\n",
    "    min_corner=[material.origin, material.origin],\n",
    "    max_corner=[[4, np.inf, np.inf], [np.inf, 4, np.inf]],\n",
    ")\n",
    "grain_field_update = {\"grain\": [-1], \"orientation\": [Orientation.identity()]}\n",
    "material_3 = (\n",
    "    material.create_uniform_field(\"phase\", 1)\n",
    "    .update_regional_field(\"grain\", grain_field_update)\n",
    "    .insert_feature(zero_stiffness_phase, fields={\"phase\": 0, \"grain\": -1})\n",
    ")\n",
    "material_3.plot(\"phase\", show_edges=True)"
   ]
  },
  {
   "cell_type": "markdown",
   "id": "0100bd51",
   "metadata": {},
   "source": [
    "Running a model follows the same steps as Example 4 in the constitutive models demo. Create a regional field to assign constitutive models to the zero-stiffness phase (phase ID 0) and the solid material (phase ID 1)."
   ]
  },
  {
   "cell_type": "code",
   "execution_count": null,
   "id": "b233969c",
   "metadata": {},
   "outputs": [],
   "source": [
    "pore_model = Elastic(Order4SymmetricTensor.zero())\n",
    "phase_field = {\"phase\": [0, 1], \"constitutive_model\": [pore_model, constitutive_model]}\n",
    "material_3 = material_3.create_regional_fields(region_label=\"phase\", regional_fields=phase_field)\n",
    "load_schedule = LoadSchedule.from_constant_uniaxial_strain_rate(\n",
    "    magnitude=1.0, direction=\"z\"\n",
    ")\n",
    "model = SmallStrainFFT(\n",
    "    load_schedule=load_schedule,\n",
    "    end_time=0.01,\n",
    "    initial_time_increment=0.001,\n",
    ")\n",
    "output_times = np.linspace(start=0.001, stop=0.01, num=10)\n",
    "material_3 = material_3.run(\n",
    "    model, output_times=output_times, phase_label=\"phase\"\n",
    ")"
   ]
  },
  {
   "cell_type": "markdown",
   "id": "98e2f39d",
   "metadata": {},
   "source": [
    "Plot the stress in the loading direction at the end of the simulation."
   ]
  },
  {
   "cell_type": "code",
   "execution_count": null,
   "id": "ceab615c",
   "metadata": {},
   "outputs": [],
   "source": [
    "material_3.plot(\"stress\", component=2)"
   ]
  },
  {
   "cell_type": "markdown",
   "id": "132b2ed4",
   "metadata": {},
   "source": [
    "If you want to simulate microstructure in the center of a specimen, you could use an `IsotropicElasticPlastic` buffer material instead of `Elastic` with zero stiffness."
   ]
  },
  {
   "cell_type": "markdown",
   "id": "e2030d44",
   "metadata": {},
   "source": [
    "**Example 4: Using a postprocessor on state variables stored during a simulation**\n",
    "\n",
    "For a simulation with a large `Material` and outputs at many time points, the memory footprint can be large. To mitigate this issue, a `postprocessor` function can be passed to the `run` method of `SmallStrainFFT`.\n",
    "\n",
    "At each time step where output is requested, `SmallStrainFFT` will pass a dictionary to `postprocessor`. The keys of the dictionary are \"stress\", \"strain\", and any additional state variable outputs requested by the user (e.g., \"plastic_strains\", \"slip_resistances\", and/or \"slip_system_shear_strains\" for an `ElasticViscoplastic` constitutive model). The values of the dictionary will be pointwise Materialite `Tensor`s. `postprocessor` must output a dictionary, but the keys and values are arbitrary.\n",
    "\n",
    "Here, the postprocessor will simply compute the mean stress and strain in the loading direction at each time step."
   ]
  },
  {
   "cell_type": "code",
   "execution_count": null,
   "id": "2a26e57b",
   "metadata": {},
   "outputs": [],
   "source": [
    "def postprocessor(outputs):\n",
    "    mean_strain = outputs[\"strain\"].mean(\"p\").components[2]\n",
    "    mean_stress = outputs[\"stress\"].mean(\"p\").components[2]\n",
    "    return {\"mean_stress\": mean_stress, \"mean_strain\": mean_strain}"
   ]
  },
  {
   "cell_type": "markdown",
   "id": "89ca0059",
   "metadata": {},
   "source": [
    "Run the same model as in Example 1."
   ]
  },
  {
   "cell_type": "code",
   "execution_count": null,
   "id": "40ef8c63",
   "metadata": {},
   "outputs": [],
   "source": [
    "stiffness_tensor = Order4SymmetricTensor.from_cubic_constants(\n",
    "    C11=243300, C12=156700, C44=117800\n",
    ")\n",
    "constitutive_model = ElasticViscoplastic(\n",
    "    stiffness=stiffness_tensor,\n",
    "    slip_systems=SlipSystem.octahedral(),\n",
    "    reference_slip_rate=1.0,\n",
    "    rate_exponent=10.0,\n",
    "    slip_resistance=143.0,\n",
    "    hardening_function=voce,\n",
    "    hardening_properties={\"tau_1\": 50.0, \"theta_0\": 1450.0, \"theta_1\": 95.0},\n",
    ")\n",
    "load_schedule = LoadSchedule.from_constant_uniaxial_strain_rate(\n",
    "    magnitude=1.0, direction=\"z\"\n",
    ")\n",
    "model = SmallStrainFFT(\n",
    "    load_schedule=load_schedule,\n",
    "    end_time=0.01,\n",
    "    initial_time_increment=0.001,\n",
    "    constitutive_model=constitutive_model,\n",
    ")\n",
    "\n",
    "output_times = np.linspace(start=0.001, stop=0.01, num=10)\n",
    "material_4 = material.run(\n",
    "    model, output_times=output_times, postprocessor=postprocessor\n",
    ")"
   ]
  },
  {
   "cell_type": "markdown",
   "id": "638f1932",
   "metadata": {},
   "source": [
    "Now, the outputs are stored in `material_4.state`, which is a dictionary with the same keys as the one returned by `postprocessor` (here, \"mean_stress\" and \"mean_strain\"). The values of the dictionary are lists of the values computed by `postprocessor` at each output time."
   ]
  },
  {
   "cell_type": "code",
   "execution_count": null,
   "id": "4a4bd67e",
   "metadata": {},
   "outputs": [],
   "source": [
    "material_4.state"
   ]
  },
  {
   "cell_type": "markdown",
   "id": "56cd7bf7",
   "metadata": {},
   "source": [
    "Plot the mean stress-strain curve. This is identical to the one from Example 1."
   ]
  },
  {
   "cell_type": "code",
   "execution_count": null,
   "id": "0357f87c",
   "metadata": {},
   "outputs": [],
   "source": [
    "fig, ax = plt.subplots()\n",
    "ax.plot(material_4.state[\"mean_strain\"], material_4.state[\"mean_stress\"])\n",
    "ax.set_xlabel(\"Axial strain [-]\")\n",
    "ax.set_ylabel(\"Axial stress [-]\")"
   ]
  },
  {
   "cell_type": "markdown",
   "id": "d55bf538",
   "metadata": {},
   "source": [
    "`SmallStrainFFT` still adds the stress and strain fields at the last time step as fields."
   ]
  },
  {
   "cell_type": "code",
   "execution_count": null,
   "id": "38ba637c",
   "metadata": {},
   "outputs": [],
   "source": [
    "material_4.get_fields()"
   ]
  },
  {
   "cell_type": "markdown",
   "id": "1e1c0228",
   "metadata": {},
   "source": [
    "As an example of a more complex operation, suppose we want the grain-average stresses at each time increment. The postprocessing function will use the indices corresponding to each grain (see the last part of Example 1) to get the grain-average stresses from the outputs dictionary.\n",
    "\n",
    "First, set up a function that takes both the outputs and lists of indices corresponding to each grain as inputs."
   ]
  },
  {
   "cell_type": "code",
   "execution_count": null,
   "id": "5320d58d",
   "metadata": {},
   "outputs": [],
   "source": [
    "def postprocessor_base(outputs, grain_indices):\n",
    "    stress = outputs[\"stress\"]\n",
    "    grain_avg_eq_stresses = [\n",
    "        stress[indices].mean().dev.norm * np.sqrt(1.5) for indices in grain_indices\n",
    "    ]\n",
    "    return {\n",
    "        \"grain_avg_eq_stress\": Scalar.from_stack(grain_avg_eq_stresses, new_dim=\"g\")\n",
    "    }"
   ]
  },
  {
   "cell_type": "markdown",
   "id": "0f4bcd09",
   "metadata": {},
   "source": [
    "Next, use Python's built-in `partial` function to \"freeze\" the `grain_indices` argument in the function we created."
   ]
  },
  {
   "cell_type": "code",
   "execution_count": null,
   "id": "7ac4b972",
   "metadata": {},
   "outputs": [],
   "source": [
    "from functools import partial\n",
    "\n",
    "grain_indices_lookup = material.get_region_indices(\"grain\")\n",
    "postprocessor = partial(postprocessor_base, grain_indices=grain_indices_lookup.values())\n",
    "output_times = np.linspace(start=0.001, stop=0.01, num=10)\n",
    "material_4b = material.run(\n",
    "    model, output_times=output_times, postprocessor=postprocessor\n",
    ")"
   ]
  },
  {
   "cell_type": "markdown",
   "id": "f373aba8",
   "metadata": {},
   "source": [
    "The state dictionary will now contain a single key, \"grain_avg_eq_stress\", whose value is a list of the 30 grain-average stresses at each of the 10 requested output times."
   ]
  },
  {
   "cell_type": "code",
   "execution_count": null,
   "id": "5c7b12f3",
   "metadata": {},
   "outputs": [],
   "source": [
    "print(material_4b.state.keys())\n",
    "print(len(material_4b.state[\"grain_avg_eq_stress\"]))"
   ]
  },
  {
   "cell_type": "markdown",
   "id": "ef7bd880",
   "metadata": {},
   "source": [
    "Look at the grain-average stresses at the end of the simulation."
   ]
  },
  {
   "cell_type": "code",
   "execution_count": null,
   "id": "05b90159",
   "metadata": {},
   "outputs": [],
   "source": [
    "material_4b.state[\"grain_avg_eq_stress\"][-1]"
   ]
  },
  {
   "cell_type": "markdown",
   "id": "30ef3d14",
   "metadata": {},
   "source": [
    "If we add the grain-average stresses at the end of the last time increment to the `Material` as a regional field, we will get the same plot as in Example 1."
   ]
  },
  {
   "cell_type": "code",
   "execution_count": null,
   "id": "eddc153a",
   "metadata": {},
   "outputs": [],
   "source": [
    "grain_avg_eq_stresses = Scalar.from_stack(\n",
    "    material_4b.state[\"grain_avg_eq_stress\"], new_dim=\"t\", axis=1\n",
    ")\n",
    "regional_field = {\n",
    "    \"grain\": grain_indices_lookup.keys(),\n",
    "    \"grain_avg_eq_stress\": grain_avg_eq_stresses,\n",
    "}\n",
    "material_4b = material_4b.create_regional_fields(\"grain\", regional_field)\n",
    "material_4b.plot(\"grain_avg_eq_stress\")"
   ]
  },
  {
   "cell_type": "markdown",
   "id": "86402569",
   "metadata": {},
   "source": [
    "**Other notes**\n",
    "\n",
    "There are three convergence tolerances in `SmallStrainFFT`. The two tolerances for the global Newton-Raphson solver in nonlinear problems are based on the Abaqus/Implicit solver, adapted for the solution variables in the FFT-based solver:\n",
    "\n",
    "* `global_tolerance`: tolerance on the maximum equilibrium error at the end of an iteration. The default is $0.001$. The equilibrium error at a point is $R = \\mathcal{F}^{-1} \\left[\\mathbb{G} \\mathcal{F}\\left( \\mathbf{\\sigma} \\right) \\right] / \\bar{\\sigma}_\\text{vm}$, where $\\mathcal{F}$ is the Fourier transform, $\\mathbf{\\sigma}$ is the Cauchy stress tensor at the point, $\\bar{\\sigma}_\\text{vm}$ is the mean von Mises stress in the domain, and $\\mathbb{G}$ is a projection tensor that enforces equilibrium (see [1] for details). The maximum equilibrium error is then $r = \\max (R)$, where the maximum is over all components (xx, yy, zz, yz, xz, xy) at all points.\n",
    "\n",
    "* `strain_correction_tolerance`: tolerance on the maximum normalized strain correction at the end of an iteration. The default is $0.01$. The normalized strain correction at a point is $C = \\mathbb{D} \\mathbf{\\varepsilon^*} / \\max \\left(\\Delta \\sigma_\\text{vm} \\right)$, where $\\mathbb{D}$ os the consistent tangent at the point, $\\mathbf{\\varepsilon^*}$ is the strain correction in the current iteration, and $\\max \\left(\\Delta \\sigma_\\text{vm} \\right)$ is the maximum von Mises stress increment in the domain for the current time step. The strain correction is mapped into stress space using $\\mathbb{D}$ in order to avoid unnecessary iterations when there is a low- or zero-stiffness phase in the domain. The maximum normalized correction is then $c = \\max (C)$, where the maximum is over all components at all points.\n",
    "\n",
    "At the end of each global Newton-Raphson iteration, the solution is accepted if both the equilibrium and strain correction tolerances are satisfied. Again following Abaqus, the solution is also accepted if the equilibrium tolerance is satisfied, and the *projected* strain correction for the next iteration satisfies the tolerance. The projected strain correction is estimated as $c_{i+1} \\approx c_i r_i / r_{i-1}$, where $c_i$ is the maximum normalized strain correction in the current iteration, and $r_i$ and $r_{i-1} are the maximum equilibrium error in the current and previous iteration, respectively.\n",
    "\n",
    "Finally, determining the strain correction in each iteration requires solving a linear system of the form $\\mathcal{A}\\left(\\mathbf{\\varepsilon^*}\\right) = \\mathbf{b}$. The original formulation in [1] used conjugate gradients to solve this equation; `SmallStrainFFT` uses the MINRES solver in scipy, which allows a solution to be found in cases with an infinite stiffness mismatch (see [2] for details). `linear_solver_tolerance` is the tolerance for the MINRES iterative solver. The default is $1 \\times 10^{-5}$.\n",
    "\n",
    "Any of these tolerances can be set by the user by passing keyword arguments to when the simulation is run (e.g., `material.run(model, global_tolerance=...)` or `model(material, global_tolerance=...)`).\n",
    "\n",
    "IMPORTANT: for linear problems (i.e., `SmallStrainFFT` with `Elastic` constitutive model(s) at all points), we suggest setting the `linear_solver_tolerance` to a small value, at most the default, and the Newton-Raphson tolerances to arbitrarily large values. This is because the Newton-Raphson iterations are meaningless in the linear case, and the error is entirely controlled by the MINRES solver."
   ]
  },
  {
   "cell_type": "markdown",
   "id": "d46b1222",
   "metadata": {},
   "source": [
    "[1] J. Zeman, T.W.J. de Geus, J. Vondrejc, R.H.J. Peerlings, M.G.D. Geers. A finite element perspective on nonlinear FFT-based micromechanical simulations. International Journal for Numerical Methods in Engineering, 2017, 111(10):903–926. doi: 10.1002/nme.5481\n",
    "\n",
    "[2] S. Lucarini, L. Cobian, A. Voitus, J. Segurado. Adaptation and validation of FFT methods for homogenization of lattice based materials. Computer Methods in Applied Mechanics and Engineering, 2022, 388:114223. doi: 10.1016/j.cma.2021.114223"
   ]
  }
 ],
 "metadata": {
  "kernelspec": {
   "display_name": "materialite",
   "language": "python",
   "name": "python3"
  },
  "language_info": {
   "codemirror_mode": {
    "name": "ipython",
    "version": 3
   },
   "file_extension": ".py",
   "mimetype": "text/x-python",
   "name": "python",
   "nbconvert_exporter": "python",
   "pygments_lexer": "ipython3",
   "version": "3.13.5"
  }
 },
 "nbformat": 4,
 "nbformat_minor": 5
}
